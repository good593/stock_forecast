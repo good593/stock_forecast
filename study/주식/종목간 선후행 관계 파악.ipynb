{
 "cells": [
  {
   "cell_type": "markdown",
   "metadata": {},
   "source": [
    "# [종목 간 선후행 관계 파악 가정](https://gils-lab.tistory.com/13?category=504500)\n",
    "- 종목 간 선후행 관계가 존재하는지를 확인하고자 한다.\n",
    "- 가령, 한 종목의 주가가 올라가면 다른 종목의 주가가 뒤따라서 올라가는 그러한 관계를 확인하고자 한다."
   ]
  },
  {
   "cell_type": "markdown",
   "metadata": {},
   "source": [
    "## 실험 대상\n",
    "- 종목: 2016년 9월 1일부터 2021년 8월31일까지 주가 데이터가 있는 코스피 종목 \n",
    "- 구간: 2016년 9월 1일 ~ 2021년 8월 31일 (전 구간) / 2020년 9월 1일 ~ 2021년 8월 31일 (최신 구간)"
   ]
  },
  {
   "cell_type": "markdown",
   "metadata": {},
   "source": [
    "## 실험 이해를 위한 배경 지식\n",
    "- 시계열의 정상성(stationarity)이란 시계열의 활률적인 성질들이 시간의 흐름에 따라 변하지 않는다는 것을 의미한다.\n",
    "    - 정상 시계열인지 판단하는 통계적인 방법으로는 adfuller 검정이 있다.\n",
    "- 비정상 시계열일지라도 차분이나 변환을 통해 정상 시계열로 바꿀 수 있다.\n",
    "- 시계열 간 인과관계를 분석하는데 있어 자주 사용되는 방법은 그랜저 인과관계(Granger Causality)분석이 있다. \n",
    "    - 시계열 A와 B가 있을 때, B를 예측하는데 과거의 B값만 사용하는 것보다 과거의 A값도 같이 사용했을 때 예측 정확도가 통계적으로 유의하게 올라간다면, A가 B를 그래저 인과한다고 부른다. 쉽게 생각해서 A가 B에 대해 선행하는 시계열이라고 볼 수 있다.\n",
    "    - 그랜저 인과관계 분석에 사용되는 두 시계열은 정상 시계열이여야 한다."
   ]
  },
  {
   "cell_type": "markdown",
   "metadata": {},
   "source": [
    "## 실험방법\n",
    "1. 종목별 종가의 1차 차분을 계산한다.\n",
    "2. 1차 차분에 대해 adufller 검정을 수행하여, 정상 시계열이라고 파단되는 종목의 1차 차분만 남긴다. \n",
    "3. 정상 시계열이라고 판단된 종목 집합으로부터 선택 가능한 모든 순서 쌍(A,B)를 선택하여 lag를 1부터 10까지 바꿔가면서 그래저 인과관계 분석을 실시한다. \n",
    "4. 모든 순서 쌍에 대해 p-value가 가장 작은 lag와 그 때의 p-value를 확인한다. 만약 p-value가 0.01 이상이라면 두 종목은 관계가 없다고 간주하고, 0.01 미만이라면 A가 B에 대해 lag만큼 선행한다고 간주한다. "
   ]
  },
  {
   "cell_type": "markdown",
   "metadata": {},
   "source": [
    "## 실험 결과 정리 및 응용 방법\n",
    "- 종목 간 선후 관계들을 시각적으로 이해할 수 있도록 정리한다.\n",
    "- 피어 그룹별 대장주가 무엇인지 식별한다.\n",
    "- 종목 간 선후 관계를 바탕으로 주가를 예측하는 추가 실험을 진행한다."
   ]
  },
  {
   "cell_type": "markdown",
   "metadata": {},
   "source": [
    "# [코드](https://gils-lab.tistory.com/19)"
   ]
  },
  {
   "cell_type": "code",
   "execution_count": 13,
   "metadata": {},
   "outputs": [
    {
     "data": {
      "text/plain": [
       "'0.9.50'"
      ]
     },
     "execution_count": 13,
     "metadata": {},
     "output_type": "execute_result"
    }
   ],
   "source": [
    "import os\n",
    "import pandas as pd\n",
    "import warnings\n",
    "import itertools\n",
    "from statsmodels.tsa.stattools import adfuller\n",
    "from statsmodels.tsa.stattools import grangercausalitytests as GCT\n",
    "warnings.filterwarnings(\"ignore\")\n",
    "\n",
    "import matplotlib.pyplot as plt\n",
    "plt.rcParams['font.family'] = 'D2Coding'\n",
    "\n",
    "\n",
    "from tqdm import tqdm\n",
    "import FinanceDataReader as fdr \n",
    "fdr.__version__"
   ]
  },
  {
   "cell_type": "markdown",
   "metadata": {},
   "source": [
    "## Data"
   ]
  },
  {
   "cell_type": "code",
   "execution_count": 2,
   "metadata": {},
   "outputs": [
    {
     "name": "stdout",
     "output_type": "stream",
     "text": [
      "(2481, 11) / 560\n"
     ]
    },
    {
     "data": {
      "text/html": [
       "<div>\n",
       "<style scoped>\n",
       "    .dataframe tbody tr th:only-of-type {\n",
       "        vertical-align: middle;\n",
       "    }\n",
       "\n",
       "    .dataframe tbody tr th {\n",
       "        vertical-align: top;\n",
       "    }\n",
       "\n",
       "    .dataframe thead th {\n",
       "        text-align: right;\n",
       "    }\n",
       "</style>\n",
       "<table border=\"1\" class=\"dataframe\">\n",
       "  <thead>\n",
       "    <tr style=\"text-align: right;\">\n",
       "      <th></th>\n",
       "      <th>stock_code</th>\n",
       "      <th>corp_name</th>\n",
       "      <th>corp_cls_nm</th>\n",
       "      <th>industry_krx_nm</th>\n",
       "      <th>industry_krx_desc</th>\n",
       "      <th>industry_wics_ls_nm</th>\n",
       "      <th>industry_wics_ls_cd</th>\n",
       "      <th>industry_wics_ms_nm</th>\n",
       "      <th>industry_wics_ms_cd</th>\n",
       "      <th>industry_wics_ss_nm</th>\n",
       "      <th>industry_wics_ss_cd</th>\n",
       "    </tr>\n",
       "  </thead>\n",
       "  <tbody>\n",
       "    <tr>\n",
       "      <th>0</th>\n",
       "      <td>950130</td>\n",
       "      <td>엑세스바이오</td>\n",
       "      <td>kosdaq</td>\n",
       "      <td>의료용품 및 기타 의약 관련제품 제조업</td>\n",
       "      <td>말라리아 진단키트(RDT), HIV 진단키트(RDT)</td>\n",
       "      <td>NaN</td>\n",
       "      <td>NaN</td>\n",
       "      <td>NaN</td>\n",
       "      <td>NaN</td>\n",
       "      <td>NaN</td>\n",
       "      <td>NaN</td>\n",
       "    </tr>\n",
       "    <tr>\n",
       "      <th>1</th>\n",
       "      <td>900070</td>\n",
       "      <td>글로벌에스엠</td>\n",
       "      <td>kosdaq</td>\n",
       "      <td>기타 금융업</td>\n",
       "      <td>자회사 제품 : IT기기용 정밀 화스너부품(스크류, 샤프트, 스프링)</td>\n",
       "      <td>NaN</td>\n",
       "      <td>NaN</td>\n",
       "      <td>NaN</td>\n",
       "      <td>NaN</td>\n",
       "      <td>NaN</td>\n",
       "      <td>NaN</td>\n",
       "    </tr>\n",
       "    <tr>\n",
       "      <th>2</th>\n",
       "      <td>900290</td>\n",
       "      <td>GRT</td>\n",
       "      <td>kosdaq</td>\n",
       "      <td>기타 금융업</td>\n",
       "      <td>광학필름, 포장필름</td>\n",
       "      <td>NaN</td>\n",
       "      <td>NaN</td>\n",
       "      <td>NaN</td>\n",
       "      <td>NaN</td>\n",
       "      <td>NaN</td>\n",
       "      <td>NaN</td>\n",
       "    </tr>\n",
       "    <tr>\n",
       "      <th>3</th>\n",
       "      <td>094800</td>\n",
       "      <td>맵스리얼티1</td>\n",
       "      <td>kospi</td>\n",
       "      <td>신탁업 및 집합투자업</td>\n",
       "      <td>NaN</td>\n",
       "      <td>NaN</td>\n",
       "      <td>NaN</td>\n",
       "      <td>NaN</td>\n",
       "      <td>NaN</td>\n",
       "      <td>NaN</td>\n",
       "      <td>NaN</td>\n",
       "    </tr>\n",
       "    <tr>\n",
       "      <th>4</th>\n",
       "      <td>900260</td>\n",
       "      <td>로스웰</td>\n",
       "      <td>kosdaq</td>\n",
       "      <td>기타 금융업</td>\n",
       "      <td>CAN Control Gateway, CAN기능모듈, BCM 차체제어모듈</td>\n",
       "      <td>NaN</td>\n",
       "      <td>NaN</td>\n",
       "      <td>NaN</td>\n",
       "      <td>NaN</td>\n",
       "      <td>NaN</td>\n",
       "      <td>NaN</td>\n",
       "    </tr>\n",
       "  </tbody>\n",
       "</table>\n",
       "</div>"
      ],
      "text/plain": [
       "  stock_code corp_name corp_cls_nm        industry_krx_nm  \\\n",
       "0     950130    엑세스바이오      kosdaq  의료용품 및 기타 의약 관련제품 제조업   \n",
       "1     900070    글로벌에스엠      kosdaq                 기타 금융업   \n",
       "2     900290       GRT      kosdaq                 기타 금융업   \n",
       "3     094800    맵스리얼티1       kospi            신탁업 및 집합투자업   \n",
       "4     900260       로스웰      kosdaq                 기타 금융업   \n",
       "\n",
       "                          industry_krx_desc industry_wics_ls_nm  \\\n",
       "0             말라리아 진단키트(RDT), HIV 진단키트(RDT)                 NaN   \n",
       "1    자회사 제품 : IT기기용 정밀 화스너부품(스크류, 샤프트, 스프링)                 NaN   \n",
       "2                                광학필름, 포장필름                 NaN   \n",
       "3                                       NaN                 NaN   \n",
       "4  CAN Control Gateway, CAN기능모듈, BCM 차체제어모듈                 NaN   \n",
       "\n",
       "   industry_wics_ls_cd industry_wics_ms_nm  industry_wics_ms_cd  \\\n",
       "0                  NaN                 NaN                  NaN   \n",
       "1                  NaN                 NaN                  NaN   \n",
       "2                  NaN                 NaN                  NaN   \n",
       "3                  NaN                 NaN                  NaN   \n",
       "4                  NaN                 NaN                  NaN   \n",
       "\n",
       "  industry_wics_ss_nm  industry_wics_ss_cd  \n",
       "0                 NaN                  NaN  \n",
       "1                 NaN                  NaN  \n",
       "2                 NaN                  NaN  \n",
       "3                 NaN                  NaN  \n",
       "4                 NaN                  NaN  "
      ]
     },
     "execution_count": 2,
     "metadata": {},
     "output_type": "execute_result"
    }
   ],
   "source": [
    "save_path = '../../data/meta/stock_corps.csv'\n",
    "df_dtype = {\n",
    "    'stock_code': 'object'\n",
    "}\n",
    "\n",
    "df_corps = pd.read_csv(save_path, dtype=df_dtype)\n",
    "\n",
    "print(f'{df_corps.shape} / {df_corps.isnull().sum().sum()}')\n",
    "df_corps.head()"
   ]
  },
  {
   "cell_type": "code",
   "execution_count": 3,
   "metadata": {},
   "outputs": [
    {
     "data": {
      "text/html": [
       "<div>\n",
       "<style scoped>\n",
       "    .dataframe tbody tr th:only-of-type {\n",
       "        vertical-align: middle;\n",
       "    }\n",
       "\n",
       "    .dataframe tbody tr th {\n",
       "        vertical-align: top;\n",
       "    }\n",
       "\n",
       "    .dataframe thead th {\n",
       "        text-align: right;\n",
       "    }\n",
       "</style>\n",
       "<table border=\"1\" class=\"dataframe\">\n",
       "  <thead>\n",
       "    <tr style=\"text-align: right;\">\n",
       "      <th></th>\n",
       "      <th>stock_code</th>\n",
       "      <th>corp_name</th>\n",
       "    </tr>\n",
       "  </thead>\n",
       "  <tbody>\n",
       "    <tr>\n",
       "      <th>3</th>\n",
       "      <td>094800</td>\n",
       "      <td>맵스리얼티1</td>\n",
       "    </tr>\n",
       "    <tr>\n",
       "      <th>7</th>\n",
       "      <td>088980</td>\n",
       "      <td>맥쿼리인프라</td>\n",
       "    </tr>\n",
       "    <tr>\n",
       "      <th>14</th>\n",
       "      <td>105840</td>\n",
       "      <td>우진</td>\n",
       "    </tr>\n",
       "    <tr>\n",
       "      <th>19</th>\n",
       "      <td>000490</td>\n",
       "      <td>대동</td>\n",
       "    </tr>\n",
       "    <tr>\n",
       "      <th>21</th>\n",
       "      <td>001820</td>\n",
       "      <td>삼화콘덴서공업</td>\n",
       "    </tr>\n",
       "  </tbody>\n",
       "</table>\n",
       "</div>"
      ],
      "text/plain": [
       "   stock_code corp_name\n",
       "3      094800    맵스리얼티1\n",
       "7      088980    맥쿼리인프라\n",
       "14     105840        우진\n",
       "19     000490        대동\n",
       "21     001820   삼화콘덴서공업"
      ]
     },
     "execution_count": 3,
     "metadata": {},
     "output_type": "execute_result"
    }
   ],
   "source": [
    "df_kospi = df_corps[df_corps['corp_cls_nm'] == 'kospi'][['stock_code', 'corp_name']]\n",
    "\n",
    "df_kospi.head()"
   ]
  },
  {
   "cell_type": "code",
   "execution_count": 4,
   "metadata": {},
   "outputs": [
    {
     "name": "stderr",
     "output_type": "stream",
     "text": [
      "  0%|          | 0/834 [00:00<?, ?it/s]"
     ]
    },
    {
     "name": "stderr",
     "output_type": "stream",
     "text": [
      "100%|██████████| 834/834 [01:58<00:00,  7.03it/s]"
     ]
    },
    {
     "name": "stdout",
     "output_type": "stream",
     "text": [
      "(1229, 834) / 85784\n"
     ]
    },
    {
     "name": "stderr",
     "output_type": "stream",
     "text": [
      "\n"
     ]
    },
    {
     "data": {
      "text/html": [
       "<div>\n",
       "<style scoped>\n",
       "    .dataframe tbody tr th:only-of-type {\n",
       "        vertical-align: middle;\n",
       "    }\n",
       "\n",
       "    .dataframe tbody tr th {\n",
       "        vertical-align: top;\n",
       "    }\n",
       "\n",
       "    .dataframe thead th {\n",
       "        text-align: right;\n",
       "    }\n",
       "</style>\n",
       "<table border=\"1\" class=\"dataframe\">\n",
       "  <thead>\n",
       "    <tr style=\"text-align: right;\">\n",
       "      <th></th>\n",
       "      <th>맵스리얼티1</th>\n",
       "      <th>맥쿼리인프라</th>\n",
       "      <th>우진</th>\n",
       "      <th>대동</th>\n",
       "      <th>삼화콘덴서공업</th>\n",
       "      <th>유니온</th>\n",
       "      <th>우진플라임</th>\n",
       "      <th>페이퍼코리아</th>\n",
       "      <th>넥센</th>\n",
       "      <th>서연이화</th>\n",
       "      <th>...</th>\n",
       "      <th>영흥</th>\n",
       "      <th>태경산업</th>\n",
       "      <th>신영와코루</th>\n",
       "      <th>대우건설</th>\n",
       "      <th>수산인더스트리</th>\n",
       "      <th>하나제약</th>\n",
       "      <th>케이티스카이라이프</th>\n",
       "      <th>세원이앤씨</th>\n",
       "      <th>티웨이항공</th>\n",
       "      <th>HD현대인프라코어</th>\n",
       "    </tr>\n",
       "    <tr>\n",
       "      <th>Date</th>\n",
       "      <th></th>\n",
       "      <th></th>\n",
       "      <th></th>\n",
       "      <th></th>\n",
       "      <th></th>\n",
       "      <th></th>\n",
       "      <th></th>\n",
       "      <th></th>\n",
       "      <th></th>\n",
       "      <th></th>\n",
       "      <th></th>\n",
       "      <th></th>\n",
       "      <th></th>\n",
       "      <th></th>\n",
       "      <th></th>\n",
       "      <th></th>\n",
       "      <th></th>\n",
       "      <th></th>\n",
       "      <th></th>\n",
       "      <th></th>\n",
       "      <th></th>\n",
       "    </tr>\n",
       "  </thead>\n",
       "  <tbody>\n",
       "    <tr>\n",
       "      <th>2016-09-01</th>\n",
       "      <td>4280</td>\n",
       "      <td>8760</td>\n",
       "      <td>6930</td>\n",
       "      <td>7320</td>\n",
       "      <td>10800</td>\n",
       "      <td>3995</td>\n",
       "      <td>3195</td>\n",
       "      <td>13229</td>\n",
       "      <td>8130</td>\n",
       "      <td>16450</td>\n",
       "      <td>...</td>\n",
       "      <td>1920</td>\n",
       "      <td>4985</td>\n",
       "      <td>14900</td>\n",
       "      <td>6060</td>\n",
       "      <td>NaN</td>\n",
       "      <td>NaN</td>\n",
       "      <td>16050</td>\n",
       "      <td>1653</td>\n",
       "      <td>NaN</td>\n",
       "      <td>6957</td>\n",
       "    </tr>\n",
       "    <tr>\n",
       "      <th>2016-09-02</th>\n",
       "      <td>4260</td>\n",
       "      <td>8800</td>\n",
       "      <td>6980</td>\n",
       "      <td>7350</td>\n",
       "      <td>10650</td>\n",
       "      <td>4005</td>\n",
       "      <td>3360</td>\n",
       "      <td>12983</td>\n",
       "      <td>8100</td>\n",
       "      <td>16400</td>\n",
       "      <td>...</td>\n",
       "      <td>1900</td>\n",
       "      <td>4990</td>\n",
       "      <td>15100</td>\n",
       "      <td>6040</td>\n",
       "      <td>NaN</td>\n",
       "      <td>NaN</td>\n",
       "      <td>15950</td>\n",
       "      <td>1668</td>\n",
       "      <td>NaN</td>\n",
       "      <td>6965</td>\n",
       "    </tr>\n",
       "    <tr>\n",
       "      <th>2016-09-05</th>\n",
       "      <td>4270</td>\n",
       "      <td>8820</td>\n",
       "      <td>6920</td>\n",
       "      <td>7330</td>\n",
       "      <td>10600</td>\n",
       "      <td>4040</td>\n",
       "      <td>3700</td>\n",
       "      <td>13341</td>\n",
       "      <td>8140</td>\n",
       "      <td>16550</td>\n",
       "      <td>...</td>\n",
       "      <td>1920</td>\n",
       "      <td>4980</td>\n",
       "      <td>15400</td>\n",
       "      <td>6140</td>\n",
       "      <td>NaN</td>\n",
       "      <td>NaN</td>\n",
       "      <td>16300</td>\n",
       "      <td>1673</td>\n",
       "      <td>NaN</td>\n",
       "      <td>7261</td>\n",
       "    </tr>\n",
       "    <tr>\n",
       "      <th>2016-09-06</th>\n",
       "      <td>4280</td>\n",
       "      <td>8780</td>\n",
       "      <td>6880</td>\n",
       "      <td>7340</td>\n",
       "      <td>10500</td>\n",
       "      <td>4040</td>\n",
       "      <td>3890</td>\n",
       "      <td>12983</td>\n",
       "      <td>8230</td>\n",
       "      <td>16200</td>\n",
       "      <td>...</td>\n",
       "      <td>1910</td>\n",
       "      <td>4990</td>\n",
       "      <td>15150</td>\n",
       "      <td>6110</td>\n",
       "      <td>NaN</td>\n",
       "      <td>NaN</td>\n",
       "      <td>16200</td>\n",
       "      <td>1675</td>\n",
       "      <td>NaN</td>\n",
       "      <td>7185</td>\n",
       "    </tr>\n",
       "    <tr>\n",
       "      <th>2016-09-07</th>\n",
       "      <td>4275</td>\n",
       "      <td>8760</td>\n",
       "      <td>6750</td>\n",
       "      <td>7460</td>\n",
       "      <td>10250</td>\n",
       "      <td>4040</td>\n",
       "      <td>3775</td>\n",
       "      <td>12774</td>\n",
       "      <td>8150</td>\n",
       "      <td>15800</td>\n",
       "      <td>...</td>\n",
       "      <td>1910</td>\n",
       "      <td>5000</td>\n",
       "      <td>15050</td>\n",
       "      <td>6090</td>\n",
       "      <td>NaN</td>\n",
       "      <td>NaN</td>\n",
       "      <td>16200</td>\n",
       "      <td>1708</td>\n",
       "      <td>NaN</td>\n",
       "      <td>7482</td>\n",
       "    </tr>\n",
       "  </tbody>\n",
       "</table>\n",
       "<p>5 rows × 834 columns</p>\n",
       "</div>"
      ],
      "text/plain": [
       "            맵스리얼티1  맥쿼리인프라    우진    대동  삼화콘덴서공업   유니온  우진플라임  페이퍼코리아    넥센  \\\n",
       "Date                                                                         \n",
       "2016-09-01    4280    8760  6930  7320    10800  3995   3195   13229  8130   \n",
       "2016-09-02    4260    8800  6980  7350    10650  4005   3360   12983  8100   \n",
       "2016-09-05    4270    8820  6920  7330    10600  4040   3700   13341  8140   \n",
       "2016-09-06    4280    8780  6880  7340    10500  4040   3890   12983  8230   \n",
       "2016-09-07    4275    8760  6750  7460    10250  4040   3775   12774  8150   \n",
       "\n",
       "             서연이화  ...    영흥  태경산업  신영와코루  대우건설  수산인더스트리  하나제약  케이티스카이라이프  \\\n",
       "Date               ...                                                      \n",
       "2016-09-01  16450  ...  1920  4985  14900  6060      NaN   NaN      16050   \n",
       "2016-09-02  16400  ...  1900  4990  15100  6040      NaN   NaN      15950   \n",
       "2016-09-05  16550  ...  1920  4980  15400  6140      NaN   NaN      16300   \n",
       "2016-09-06  16200  ...  1910  4990  15150  6110      NaN   NaN      16200   \n",
       "2016-09-07  15800  ...  1910  5000  15050  6090      NaN   NaN      16200   \n",
       "\n",
       "            세원이앤씨  티웨이항공  HD현대인프라코어  \n",
       "Date                                 \n",
       "2016-09-01   1653    NaN       6957  \n",
       "2016-09-02   1668    NaN       6965  \n",
       "2016-09-05   1673    NaN       7261  \n",
       "2016-09-06   1675    NaN       7185  \n",
       "2016-09-07   1708    NaN       7482  \n",
       "\n",
       "[5 rows x 834 columns]"
      ]
     },
     "execution_count": 4,
     "metadata": {},
     "output_type": "execute_result"
    }
   ],
   "source": [
    "all_df = pd.DataFrame()\n",
    "\n",
    "for kospi_value in tqdm(df_kospi.values):\n",
    "    _df = fdr.DataReader(kospi_value[0], '2016-09-01', '2021-08-31')[['Close']]\n",
    "    _df = _df.rename(columns={'Close':kospi_value[1]})\n",
    "    all_df = pd.concat([all_df, _df], axis = 1) # 열 추가\n",
    "\n",
    "print(f'{all_df.shape} / {all_df.isnull().sum().sum()}')\n",
    "all_df.head()"
   ]
  },
  {
   "cell_type": "code",
   "execution_count": 5,
   "metadata": {},
   "outputs": [
    {
     "name": "stderr",
     "output_type": "stream",
     "text": [
      "100%|██████████| 722/722 [6:04:58<00:00, 30.33s/it]  \n"
     ]
    },
    {
     "ename": "ValueError",
     "evalue": "Invalid input, x is constant",
     "output_type": "error",
     "traceback": [
      "\u001b[0;31m---------------------------------------------------------------------------\u001b[0m",
      "\u001b[0;31mValueError\u001b[0m                                Traceback (most recent call last)",
      "Cell \u001b[0;32mIn[5], line 12\u001b[0m\n\u001b[1;32m     10\u001b[0m ADF_passed_columns \u001b[39m=\u001b[39m []\n\u001b[1;32m     11\u001b[0m \u001b[39mfor\u001b[39;00m col \u001b[39min\u001b[39;00m period_df\u001b[39m.\u001b[39mcolumns:\n\u001b[0;32m---> 12\u001b[0m     \u001b[39mif\u001b[39;00m adfuller(period_df[col])[\u001b[39m1\u001b[39m] \u001b[39m<\u001b[39m \u001b[39m0.05\u001b[39m:\n\u001b[1;32m     13\u001b[0m         ADF_passed_columns\u001b[39m.\u001b[39mappend(col)\n\u001b[1;32m     15\u001b[0m result \u001b[39m=\u001b[39m []\n",
      "File \u001b[0;32m~/.pyenv/versions/3.11.3/envs/stock-venv/lib/python3.11/site-packages/statsmodels/tsa/stattools.py:273\u001b[0m, in \u001b[0;36madfuller\u001b[0;34m(x, maxlag, regression, autolag, store, regresults)\u001b[0m\n\u001b[1;32m    270\u001b[0m regresults \u001b[39m=\u001b[39m bool_like(regresults, \u001b[39m\"\u001b[39m\u001b[39mregresults\u001b[39m\u001b[39m\"\u001b[39m)\n\u001b[1;32m    272\u001b[0m \u001b[39mif\u001b[39;00m x\u001b[39m.\u001b[39mmax() \u001b[39m==\u001b[39m x\u001b[39m.\u001b[39mmin():\n\u001b[0;32m--> 273\u001b[0m     \u001b[39mraise\u001b[39;00m \u001b[39mValueError\u001b[39;00m(\u001b[39m\"\u001b[39m\u001b[39mInvalid input, x is constant\u001b[39m\u001b[39m\"\u001b[39m)\n\u001b[1;32m    275\u001b[0m \u001b[39mif\u001b[39;00m regresults:\n\u001b[1;32m    276\u001b[0m     store \u001b[39m=\u001b[39m \u001b[39mTrue\u001b[39;00m\n",
      "\u001b[0;31mValueError\u001b[0m: Invalid input, x is constant"
     ]
    }
   ],
   "source": [
    "for period in [['2016-09-01', '2021-08-31'], ['2020-09-01', '2021-08-31']]:\n",
    "    start, end = period\n",
    "    period_df = all_df.loc[start:end]\n",
    "    period_df.dropna(axis = 1, inplace = True) # 결측이 하나라도 있는 종목은 삭제\n",
    "\n",
    "    # 1차 차분 수행\n",
    "    period_df = period_df.diff().dropna()\n",
    "    \n",
    "    # adfuller 테스트 수행해서 정상성을 띈다고 판단된 컬럼만 사용\n",
    "    ADF_passed_columns = []\n",
    "    for col in period_df.columns:\n",
    "        if adfuller(period_df[col])[1] < 0.05:\n",
    "            ADF_passed_columns.append(col)\n",
    "            \n",
    "    result = []\n",
    "    temp = [] # 계산한 컬럼 튜플을 저장해놓는 곳\n",
    "    i = 0\n",
    "    n = len(ADF_passed_columns) * len(ADF_passed_columns)\n",
    "    for col1 in tqdm(ADF_passed_columns):\n",
    "        for col2 in ADF_passed_columns:\n",
    "            i += 1\n",
    "            if (col1 == col2) or ((col1, col2) in temp) or ((col1, col2) in temp):\n",
    "                pass\n",
    "            else:\n",
    "                # 선택 가능한 모든 컬럼 조합 선택\n",
    "                temp.append((col1, col2))\n",
    "                try:\n",
    "                    GCT_result = GCT(period_df[[col1, col2]], maxlag = 11, verbose = False)\n",
    "                    min_pvalue = 1\n",
    "                    for lag in range(1, 11):\n",
    "                        pvalue = GCT_result[lag][0]['ssr_chi2test'][1]\n",
    "                        if pvalue < min_pvalue:\n",
    "                            min_pvalue = pvalue\n",
    "                            min_lag = lag\n",
    "\n",
    "                    if min_pvalue < 0.01:\n",
    "                        result.append([col2, col1, min_lag, min_pvalue])\n",
    "                except:\n",
    "                    pass\n",
    "                \n",
    "                \n",
    "    result = pd.DataFrame(result, columns = [\"선행종목\", \"후행종목\", \"lag\", \"pvalue\"])\n",
    "    result.to_csv(\"{}-{}_선후행관계분석결과.csv\".format(start, end))"
   ]
  },
  {
   "cell_type": "code",
   "execution_count": 20,
   "metadata": {},
   "outputs": [
    {
     "data": {
      "text/html": [
       "<div>\n",
       "<style scoped>\n",
       "    .dataframe tbody tr th:only-of-type {\n",
       "        vertical-align: middle;\n",
       "    }\n",
       "\n",
       "    .dataframe tbody tr th {\n",
       "        vertical-align: top;\n",
       "    }\n",
       "\n",
       "    .dataframe thead th {\n",
       "        text-align: right;\n",
       "    }\n",
       "</style>\n",
       "<table border=\"1\" class=\"dataframe\">\n",
       "  <thead>\n",
       "    <tr style=\"text-align: right;\">\n",
       "      <th></th>\n",
       "      <th>선행종목</th>\n",
       "      <th>후행종목</th>\n",
       "      <th>lag</th>\n",
       "      <th>pvalue</th>\n",
       "    </tr>\n",
       "  </thead>\n",
       "  <tbody>\n",
       "    <tr>\n",
       "      <th>39880</th>\n",
       "      <td>대동전자</td>\n",
       "      <td>퍼시스</td>\n",
       "      <td>10</td>\n",
       "      <td>4.608509e-80</td>\n",
       "    </tr>\n",
       "    <tr>\n",
       "      <th>58663</th>\n",
       "      <td>신흥</td>\n",
       "      <td>KPX홀딩스</td>\n",
       "      <td>10</td>\n",
       "      <td>4.231803e-67</td>\n",
       "    </tr>\n",
       "    <tr>\n",
       "      <th>51819</th>\n",
       "      <td>동방</td>\n",
       "      <td>제주은행</td>\n",
       "      <td>10</td>\n",
       "      <td>2.629066e-61</td>\n",
       "    </tr>\n",
       "    <tr>\n",
       "      <th>74142</th>\n",
       "      <td>가온전선</td>\n",
       "      <td>대한전선</td>\n",
       "      <td>10</td>\n",
       "      <td>3.025197e-57</td>\n",
       "    </tr>\n",
       "    <tr>\n",
       "      <th>48786</th>\n",
       "      <td>한전산업</td>\n",
       "      <td>한세엠케이</td>\n",
       "      <td>10</td>\n",
       "      <td>3.356261e-53</td>\n",
       "    </tr>\n",
       "  </tbody>\n",
       "</table>\n",
       "</div>"
      ],
      "text/plain": [
       "       선행종목    후행종목  lag        pvalue\n",
       "39880  대동전자     퍼시스   10  4.608509e-80\n",
       "58663    신흥  KPX홀딩스   10  4.231803e-67\n",
       "51819    동방    제주은행   10  2.629066e-61\n",
       "74142  가온전선    대한전선   10  3.025197e-57\n",
       "48786  한전산업   한세엠케이   10  3.356261e-53"
      ]
     },
     "execution_count": 20,
     "metadata": {},
     "output_type": "execute_result"
    }
   ],
   "source": [
    "result.sort_values(by=['lag', 'pvalue'], ascending=[False,True]).head()"
   ]
  },
  {
   "cell_type": "code",
   "execution_count": 21,
   "metadata": {},
   "outputs": [
    {
     "data": {
      "text/plain": [
       "<Axes: xlabel='Date'>"
      ]
     },
     "execution_count": 21,
     "metadata": {},
     "output_type": "execute_result"
    },
    {
     "data": {
      "image/png": "[encoded data removed]",
      "text/plain": [
       "<Figure size 640x480 with 1 Axes>"
      ]
     },
     "metadata": {},
     "output_type": "display_data"
    }
   ],
   "source": [
    "all_df[['대동전자', '퍼시스']].plot()"
   ]
  },
  {
   "cell_type": "code",
   "execution_count": 22,
   "metadata": {},
   "outputs": [
    {
     "data": {
      "text/plain": [
       "<Axes: xlabel='Date'>"
      ]
     },
     "execution_count": 22,
     "metadata": {},
     "output_type": "execute_result"
    },
    {
     "data": {
      "image/png": "[encoded data removed]",
      "text/plain": [
       "<Figure size 640x480 with 1 Axes>"
      ]
     },
     "metadata": {},
     "output_type": "display_data"
    }
   ],
   "source": [
    "all_df[['신흥', 'KPX홀딩스']].plot()"
   ]
  },
  {
   "cell_type": "code",
   "execution_count": 23,
   "metadata": {},
   "outputs": [
    {
     "data": {
      "text/html": [
       "<div>\n",
       "<style scoped>\n",
       "    .dataframe tbody tr th:only-of-type {\n",
       "        vertical-align: middle;\n",
       "    }\n",
       "\n",
       "    .dataframe tbody tr th {\n",
       "        vertical-align: top;\n",
       "    }\n",
       "\n",
       "    .dataframe thead th {\n",
       "        text-align: right;\n",
       "    }\n",
       "</style>\n",
       "<table border=\"1\" class=\"dataframe\">\n",
       "  <thead>\n",
       "    <tr style=\"text-align: right;\">\n",
       "      <th></th>\n",
       "      <th>선행종목</th>\n",
       "      <th>후행종목</th>\n",
       "      <th>lag</th>\n",
       "      <th>pvalue</th>\n",
       "    </tr>\n",
       "  </thead>\n",
       "  <tbody>\n",
       "    <tr>\n",
       "      <th>23319</th>\n",
       "      <td>보해양조</td>\n",
       "      <td>에스원</td>\n",
       "      <td>1</td>\n",
       "      <td>0.009999</td>\n",
       "    </tr>\n",
       "    <tr>\n",
       "      <th>5213</th>\n",
       "      <td>금호건설</td>\n",
       "      <td>일성건설</td>\n",
       "      <td>1</td>\n",
       "      <td>0.009999</td>\n",
       "    </tr>\n",
       "    <tr>\n",
       "      <th>8782</th>\n",
       "      <td>세아베스틸지주</td>\n",
       "      <td>GS글로벌</td>\n",
       "      <td>1</td>\n",
       "      <td>0.009998</td>\n",
       "    </tr>\n",
       "    <tr>\n",
       "      <th>20618</th>\n",
       "      <td>LG헬로비전</td>\n",
       "      <td>진원생명과학</td>\n",
       "      <td>1</td>\n",
       "      <td>0.009996</td>\n",
       "    </tr>\n",
       "    <tr>\n",
       "      <th>77015</th>\n",
       "      <td>현대코퍼레이션</td>\n",
       "      <td>AJ네트웍스</td>\n",
       "      <td>1</td>\n",
       "      <td>0.009996</td>\n",
       "    </tr>\n",
       "  </tbody>\n",
       "</table>\n",
       "</div>"
      ],
      "text/plain": [
       "          선행종목    후행종목  lag    pvalue\n",
       "23319     보해양조     에스원    1  0.009999\n",
       "5213      금호건설    일성건설    1  0.009999\n",
       "8782   세아베스틸지주   GS글로벌    1  0.009998\n",
       "20618   LG헬로비전  진원생명과학    1  0.009996\n",
       "77015  현대코퍼레이션  AJ네트웍스    1  0.009996"
      ]
     },
     "execution_count": 23,
     "metadata": {},
     "output_type": "execute_result"
    }
   ],
   "source": [
    "result.sort_values(by=['lag', 'pvalue'], ascending=[True,False]).head()"
   ]
  },
  {
   "cell_type": "code",
   "execution_count": 24,
   "metadata": {},
   "outputs": [
    {
     "data": {
      "text/plain": [
       "<Axes: xlabel='Date'>"
      ]
     },
     "execution_count": 24,
     "metadata": {},
     "output_type": "execute_result"
    },
    {
     "data": {
      "image/png": "[encoded data removed]",
      "text/plain": [
       "<Figure size 640x480 with 1 Axes>"
      ]
     },
     "metadata": {},
     "output_type": "display_data"
    }
   ],
   "source": [
    "all_df[['보해양조', '에스원']].plot()"
   ]
  },
  {
   "cell_type": "code",
   "execution_count": 25,
   "metadata": {},
   "outputs": [
    {
     "data": {
      "text/plain": [
       "<Axes: xlabel='Date'>"
      ]
     },
     "execution_count": 25,
     "metadata": {},
     "output_type": "execute_result"
    },
    {
     "data": {
      "image/png": "[encoded data removed]",
      "text/plain": [
       "<Figure size 640x480 with 1 Axes>"
      ]
     },
     "metadata": {},
     "output_type": "display_data"
    }
   ],
   "source": [
    "all_df[['금호건설', '일성건설']].plot()"
   ]
  },
  {
   "cell_type": "code",
   "execution_count": null,
   "metadata": {},
   "outputs": [],
   "source": []
  }
 ],
 "metadata": {
  "kernelspec": {
   "display_name": "stock-venv",
   "language": "python",
   "name": "python3"
  },
  "language_info": {
   "codemirror_mode": {
    "name": "ipython",
    "version": 3
   },
   "file_extension": ".py",
   "mimetype": "text/x-python",
   "name": "python",
   "nbconvert_exporter": "python",
   "pygments_lexer": "ipython3",
   "version": "3.11.3"
  },
  "orig_nbformat": 4
 },
 "nbformat": 4,
 "nbformat_minor": 2
}
