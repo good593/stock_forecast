{
 "cells": [
  {
   "attachments": {},
   "cell_type": "markdown",
   "metadata": {},
   "source": [
    "# Pandas-Datareader\n",
    "- https://pandas-datareader.readthedocs.io/en/latest/index.html\n",
    "- https://zephyrus1111.tistory.com/206"
   ]
  },
  {
   "cell_type": "code",
   "execution_count": 8,
   "metadata": {},
   "outputs": [
    {
     "name": "stdout",
     "output_type": "stream",
     "text": [
      "[*********************100%***********************]  1 of 1 completed\n"
     ]
    }
   ],
   "source": [
    "import pandas_datareader.data as web\n",
    "import yfinance as yf\n",
    "\n",
    "yf.pdr_override()\n",
    "\n",
    "data = web.get_data_yahoo('005930.KS', start='2021-06-01', end='2022-02-09')"
   ]
  },
  {
   "cell_type": "code",
   "execution_count": 9,
   "metadata": {},
   "outputs": [
    {
     "data": {
      "text/html": [
       "<div>\n",
       "<style scoped>\n",
       "    .dataframe tbody tr th:only-of-type {\n",
       "        vertical-align: middle;\n",
       "    }\n",
       "\n",
       "    .dataframe tbody tr th {\n",
       "        vertical-align: top;\n",
       "    }\n",
       "\n",
       "    .dataframe thead th {\n",
       "        text-align: right;\n",
       "    }\n",
       "</style>\n",
       "<table border=\"1\" class=\"dataframe\">\n",
       "  <thead>\n",
       "    <tr style=\"text-align: right;\">\n",
       "      <th></th>\n",
       "      <th>Open</th>\n",
       "      <th>High</th>\n",
       "      <th>Low</th>\n",
       "      <th>Close</th>\n",
       "      <th>Adj Close</th>\n",
       "      <th>Volume</th>\n",
       "    </tr>\n",
       "    <tr>\n",
       "      <th>Date</th>\n",
       "      <th></th>\n",
       "      <th></th>\n",
       "      <th></th>\n",
       "      <th></th>\n",
       "      <th></th>\n",
       "      <th></th>\n",
       "    </tr>\n",
       "  </thead>\n",
       "  <tbody>\n",
       "    <tr>\n",
       "      <th>2021-06-01</th>\n",
       "      <td>80500.0</td>\n",
       "      <td>81300.0</td>\n",
       "      <td>80100.0</td>\n",
       "      <td>80600.0</td>\n",
       "      <td>77148.054688</td>\n",
       "      <td>14058401</td>\n",
       "    </tr>\n",
       "    <tr>\n",
       "      <th>2021-06-02</th>\n",
       "      <td>80400.0</td>\n",
       "      <td>81400.0</td>\n",
       "      <td>80300.0</td>\n",
       "      <td>80800.0</td>\n",
       "      <td>77339.500000</td>\n",
       "      <td>16414644</td>\n",
       "    </tr>\n",
       "    <tr>\n",
       "      <th>2021-06-03</th>\n",
       "      <td>81300.0</td>\n",
       "      <td>83000.0</td>\n",
       "      <td>81100.0</td>\n",
       "      <td>82800.0</td>\n",
       "      <td>79253.835938</td>\n",
       "      <td>29546007</td>\n",
       "    </tr>\n",
       "    <tr>\n",
       "      <th>2021-06-04</th>\n",
       "      <td>82700.0</td>\n",
       "      <td>82700.0</td>\n",
       "      <td>81500.0</td>\n",
       "      <td>82200.0</td>\n",
       "      <td>78679.539062</td>\n",
       "      <td>18112259</td>\n",
       "    </tr>\n",
       "    <tr>\n",
       "      <th>2021-06-07</th>\n",
       "      <td>82700.0</td>\n",
       "      <td>82800.0</td>\n",
       "      <td>81600.0</td>\n",
       "      <td>81900.0</td>\n",
       "      <td>78392.390625</td>\n",
       "      <td>16496197</td>\n",
       "    </tr>\n",
       "    <tr>\n",
       "      <th>...</th>\n",
       "      <td>...</td>\n",
       "      <td>...</td>\n",
       "      <td>...</td>\n",
       "      <td>...</td>\n",
       "      <td>...</td>\n",
       "      <td>...</td>\n",
       "    </tr>\n",
       "    <tr>\n",
       "      <th>2022-01-28</th>\n",
       "      <td>71300.0</td>\n",
       "      <td>73700.0</td>\n",
       "      <td>71200.0</td>\n",
       "      <td>73300.0</td>\n",
       "      <td>71126.093750</td>\n",
       "      <td>21367447</td>\n",
       "    </tr>\n",
       "    <tr>\n",
       "      <th>2022-02-03</th>\n",
       "      <td>74900.0</td>\n",
       "      <td>74900.0</td>\n",
       "      <td>73300.0</td>\n",
       "      <td>73300.0</td>\n",
       "      <td>71126.093750</td>\n",
       "      <td>17744721</td>\n",
       "    </tr>\n",
       "    <tr>\n",
       "      <th>2022-02-04</th>\n",
       "      <td>74300.0</td>\n",
       "      <td>74600.0</td>\n",
       "      <td>73400.0</td>\n",
       "      <td>74000.0</td>\n",
       "      <td>71805.328125</td>\n",
       "      <td>12730034</td>\n",
       "    </tr>\n",
       "    <tr>\n",
       "      <th>2022-02-07</th>\n",
       "      <td>73500.0</td>\n",
       "      <td>73600.0</td>\n",
       "      <td>72400.0</td>\n",
       "      <td>73000.0</td>\n",
       "      <td>70834.992188</td>\n",
       "      <td>14240838</td>\n",
       "    </tr>\n",
       "    <tr>\n",
       "      <th>2022-02-08</th>\n",
       "      <td>73000.0</td>\n",
       "      <td>73000.0</td>\n",
       "      <td>73000.0</td>\n",
       "      <td>73000.0</td>\n",
       "      <td>70834.992188</td>\n",
       "      <td>0</td>\n",
       "    </tr>\n",
       "  </tbody>\n",
       "</table>\n",
       "<p>170 rows × 6 columns</p>\n",
       "</div>"
      ],
      "text/plain": [
       "               Open     High      Low    Close     Adj Close    Volume\n",
       "Date                                                                  \n",
       "2021-06-01  80500.0  81300.0  80100.0  80600.0  77148.054688  14058401\n",
       "2021-06-02  80400.0  81400.0  80300.0  80800.0  77339.500000  16414644\n",
       "2021-06-03  81300.0  83000.0  81100.0  82800.0  79253.835938  29546007\n",
       "2021-06-04  82700.0  82700.0  81500.0  82200.0  78679.539062  18112259\n",
       "2021-06-07  82700.0  82800.0  81600.0  81900.0  78392.390625  16496197\n",
       "...             ...      ...      ...      ...           ...       ...\n",
       "2022-01-28  71300.0  73700.0  71200.0  73300.0  71126.093750  21367447\n",
       "2022-02-03  74900.0  74900.0  73300.0  73300.0  71126.093750  17744721\n",
       "2022-02-04  74300.0  74600.0  73400.0  74000.0  71805.328125  12730034\n",
       "2022-02-07  73500.0  73600.0  72400.0  73000.0  70834.992188  14240838\n",
       "2022-02-08  73000.0  73000.0  73000.0  73000.0  70834.992188         0\n",
       "\n",
       "[170 rows x 6 columns]"
      ]
     },
     "execution_count": 9,
     "metadata": {},
     "output_type": "execute_result"
    }
   ],
   "source": [
    "data "
   ]
  },
  {
   "cell_type": "code",
   "execution_count": 16,
   "metadata": {},
   "outputs": [
    {
     "name": "stdout",
     "output_type": "stream",
     "text": [
      "[*********************100%***********************]  1 of 1 completed"
     ]
    },
    {
     "name": "stderr",
     "output_type": "stream",
     "text": [
      "ERROR \n",
      "1 Failed download:\n",
      "ERROR ['005930.KS']: ValueError(\"time data 'naver' does not match format '%Y-%m-%d'\")\n"
     ]
    },
    {
     "name": "stdout",
     "output_type": "stream",
     "text": [
      "\n"
     ]
    },
    {
     "data": {
      "text/html": [
       "<div>\n",
       "<style scoped>\n",
       "    .dataframe tbody tr th:only-of-type {\n",
       "        vertical-align: middle;\n",
       "    }\n",
       "\n",
       "    .dataframe tbody tr th {\n",
       "        vertical-align: top;\n",
       "    }\n",
       "\n",
       "    .dataframe thead th {\n",
       "        text-align: right;\n",
       "    }\n",
       "</style>\n",
       "<table border=\"1\" class=\"dataframe\">\n",
       "  <thead>\n",
       "    <tr style=\"text-align: right;\">\n",
       "      <th></th>\n",
       "      <th>Open</th>\n",
       "      <th>High</th>\n",
       "      <th>Low</th>\n",
       "      <th>Close</th>\n",
       "      <th>Adj Close</th>\n",
       "      <th>Volume</th>\n",
       "    </tr>\n",
       "    <tr>\n",
       "      <th>Date</th>\n",
       "      <th></th>\n",
       "      <th></th>\n",
       "      <th></th>\n",
       "      <th></th>\n",
       "      <th></th>\n",
       "      <th></th>\n",
       "    </tr>\n",
       "  </thead>\n",
       "  <tbody>\n",
       "  </tbody>\n",
       "</table>\n",
       "</div>"
      ],
      "text/plain": [
       "Empty DataFrame\n",
       "Columns: [Open, High, Low, Close, Adj Close, Volume]\n",
       "Index: []"
      ]
     },
     "execution_count": 16,
     "metadata": {},
     "output_type": "execute_result"
    }
   ],
   "source": [
    "import pandas_datareader.data as web\n",
    "from pandas import to_numeric\n",
    "from datetime import datetime \n",
    "\n",
    "start_date = datetime(2021,1,1) \n",
    "end_date = datetime(2021,12,31)\n",
    "\n",
    "data = web.DataReader('005930.KS', 'naver', start_date, end_date)\n",
    "data = data.apply(to_numeric)\n",
    "data.head()"
   ]
  },
  {
   "cell_type": "code",
   "execution_count": null,
   "metadata": {},
   "outputs": [],
   "source": []
  }
 ],
 "metadata": {
  "kernelspec": {
   "display_name": "stock-venv",
   "language": "python",
   "name": "python3"
  },
  "language_info": {
   "codemirror_mode": {
    "name": "ipython",
    "version": 3
   },
   "file_extension": ".py",
   "mimetype": "text/x-python",
   "name": "python",
   "nbconvert_exporter": "python",
   "pygments_lexer": "ipython3",
   "version": "3.11.3"
  },
  "orig_nbformat": 4
 },
 "nbformat": 4,
 "nbformat_minor": 2
}
