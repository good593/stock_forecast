{
 "cells": [
  {
   "cell_type": "code",
   "execution_count": 1,
   "metadata": {},
   "outputs": [],
   "source": [
    "import numpy as np \n",
    "import pandas as pd\n",
    "\n",
    "import matplotlib.pyplot as plt \n",
    "import seaborn as sns "
   ]
  },
  {
   "cell_type": "code",
   "execution_count": 2,
   "metadata": {},
   "outputs": [
    {
     "data": {
      "text/plain": [
       "'0.9.50'"
      ]
     },
     "execution_count": 2,
     "metadata": {},
     "output_type": "execute_result"
    }
   ],
   "source": [
    "import FinanceDataReader as fdr \n",
    "fdr.__version__"
   ]
  },
  {
   "attachments": {},
   "cell_type": "markdown",
   "metadata": {},
   "source": [
    "# 회사 코드 조회 "
   ]
  },
  {
   "cell_type": "code",
   "execution_count": 3,
   "metadata": {},
   "outputs": [
    {
     "name": "stdout",
     "output_type": "stream",
     "text": [
      "(2481, 11) / 560\n"
     ]
    },
    {
     "data": {
      "text/html": [
       "<div>\n",
       "<style scoped>\n",
       "    .dataframe tbody tr th:only-of-type {\n",
       "        vertical-align: middle;\n",
       "    }\n",
       "\n",
       "    .dataframe tbody tr th {\n",
       "        vertical-align: top;\n",
       "    }\n",
       "\n",
       "    .dataframe thead th {\n",
       "        text-align: right;\n",
       "    }\n",
       "</style>\n",
       "<table border=\"1\" class=\"dataframe\">\n",
       "  <thead>\n",
       "    <tr style=\"text-align: right;\">\n",
       "      <th></th>\n",
       "      <th>stock_code</th>\n",
       "      <th>corp_name</th>\n",
       "      <th>corp_cls_nm</th>\n",
       "      <th>industry_krx_nm</th>\n",
       "      <th>industry_krx_desc</th>\n",
       "      <th>industry_wics_ls_nm</th>\n",
       "      <th>industry_wics_ls_cd</th>\n",
       "      <th>industry_wics_ms_nm</th>\n",
       "      <th>industry_wics_ms_cd</th>\n",
       "      <th>industry_wics_ss_nm</th>\n",
       "      <th>industry_wics_ss_cd</th>\n",
       "    </tr>\n",
       "  </thead>\n",
       "  <tbody>\n",
       "    <tr>\n",
       "      <th>0</th>\n",
       "      <td>950130</td>\n",
       "      <td>엑세스바이오</td>\n",
       "      <td>kosdaq</td>\n",
       "      <td>의료용품 및 기타 의약 관련제품 제조업</td>\n",
       "      <td>말라리아 진단키트(RDT), HIV 진단키트(RDT)</td>\n",
       "      <td>NaN</td>\n",
       "      <td>NaN</td>\n",
       "      <td>NaN</td>\n",
       "      <td>NaN</td>\n",
       "      <td>NaN</td>\n",
       "      <td>NaN</td>\n",
       "    </tr>\n",
       "    <tr>\n",
       "      <th>1</th>\n",
       "      <td>900070</td>\n",
       "      <td>글로벌에스엠</td>\n",
       "      <td>kosdaq</td>\n",
       "      <td>기타 금융업</td>\n",
       "      <td>자회사 제품 : IT기기용 정밀 화스너부품(스크류, 샤프트, 스프링)</td>\n",
       "      <td>NaN</td>\n",
       "      <td>NaN</td>\n",
       "      <td>NaN</td>\n",
       "      <td>NaN</td>\n",
       "      <td>NaN</td>\n",
       "      <td>NaN</td>\n",
       "    </tr>\n",
       "    <tr>\n",
       "      <th>2</th>\n",
       "      <td>900290</td>\n",
       "      <td>GRT</td>\n",
       "      <td>kosdaq</td>\n",
       "      <td>기타 금융업</td>\n",
       "      <td>광학필름, 포장필름</td>\n",
       "      <td>NaN</td>\n",
       "      <td>NaN</td>\n",
       "      <td>NaN</td>\n",
       "      <td>NaN</td>\n",
       "      <td>NaN</td>\n",
       "      <td>NaN</td>\n",
       "    </tr>\n",
       "    <tr>\n",
       "      <th>3</th>\n",
       "      <td>094800</td>\n",
       "      <td>맵스리얼티1</td>\n",
       "      <td>kospi</td>\n",
       "      <td>신탁업 및 집합투자업</td>\n",
       "      <td>NaN</td>\n",
       "      <td>NaN</td>\n",
       "      <td>NaN</td>\n",
       "      <td>NaN</td>\n",
       "      <td>NaN</td>\n",
       "      <td>NaN</td>\n",
       "      <td>NaN</td>\n",
       "    </tr>\n",
       "    <tr>\n",
       "      <th>4</th>\n",
       "      <td>900260</td>\n",
       "      <td>로스웰</td>\n",
       "      <td>kosdaq</td>\n",
       "      <td>기타 금융업</td>\n",
       "      <td>CAN Control Gateway, CAN기능모듈, BCM 차체제어모듈</td>\n",
       "      <td>NaN</td>\n",
       "      <td>NaN</td>\n",
       "      <td>NaN</td>\n",
       "      <td>NaN</td>\n",
       "      <td>NaN</td>\n",
       "      <td>NaN</td>\n",
       "    </tr>\n",
       "  </tbody>\n",
       "</table>\n",
       "</div>"
      ],
      "text/plain": [
       "  stock_code corp_name corp_cls_nm        industry_krx_nm  \\\n",
       "0     950130    엑세스바이오      kosdaq  의료용품 및 기타 의약 관련제품 제조업   \n",
       "1     900070    글로벌에스엠      kosdaq                 기타 금융업   \n",
       "2     900290       GRT      kosdaq                 기타 금융업   \n",
       "3     094800    맵스리얼티1       kospi            신탁업 및 집합투자업   \n",
       "4     900260       로스웰      kosdaq                 기타 금융업   \n",
       "\n",
       "                          industry_krx_desc industry_wics_ls_nm  \\\n",
       "0             말라리아 진단키트(RDT), HIV 진단키트(RDT)                 NaN   \n",
       "1    자회사 제품 : IT기기용 정밀 화스너부품(스크류, 샤프트, 스프링)                 NaN   \n",
       "2                                광학필름, 포장필름                 NaN   \n",
       "3                                       NaN                 NaN   \n",
       "4  CAN Control Gateway, CAN기능모듈, BCM 차체제어모듈                 NaN   \n",
       "\n",
       "   industry_wics_ls_cd industry_wics_ms_nm  industry_wics_ms_cd  \\\n",
       "0                  NaN                 NaN                  NaN   \n",
       "1                  NaN                 NaN                  NaN   \n",
       "2                  NaN                 NaN                  NaN   \n",
       "3                  NaN                 NaN                  NaN   \n",
       "4                  NaN                 NaN                  NaN   \n",
       "\n",
       "  industry_wics_ss_nm  industry_wics_ss_cd  \n",
       "0                 NaN                  NaN  \n",
       "1                 NaN                  NaN  \n",
       "2                 NaN                  NaN  \n",
       "3                 NaN                  NaN  \n",
       "4                 NaN                  NaN  "
      ]
     },
     "execution_count": 3,
     "metadata": {},
     "output_type": "execute_result"
    }
   ],
   "source": [
    "save_path = '../data/meta/stock_corps.csv'\n",
    "df_dtype = {\n",
    "    'stock_code': 'object'\n",
    "}\n",
    "\n",
    "df_corps = pd.read_csv(save_path, dtype=df_dtype)\n",
    "\n",
    "print(f'{df_corps.shape} / {df_corps.isnull().sum().sum()}')\n",
    "df_corps.head()"
   ]
  },
  {
   "attachments": {},
   "cell_type": "markdown",
   "metadata": {},
   "source": [
    "# 주식 조회"
   ]
  },
  {
   "cell_type": "code",
   "execution_count": null,
   "metadata": {},
   "outputs": [],
   "source": [
    "import FinanceDataReader as fdr"
   ]
  },
  {
   "attachments": {},
   "cell_type": "markdown",
   "metadata": {},
   "source": [
    "## (연습용)"
   ]
  },
  {
   "cell_type": "code",
   "execution_count": 32,
   "metadata": {},
   "outputs": [
    {
     "data": {
      "text/html": [
       "<div>\n",
       "<style scoped>\n",
       "    .dataframe tbody tr th:only-of-type {\n",
       "        vertical-align: middle;\n",
       "    }\n",
       "\n",
       "    .dataframe tbody tr th {\n",
       "        vertical-align: top;\n",
       "    }\n",
       "\n",
       "    .dataframe thead th {\n",
       "        text-align: right;\n",
       "    }\n",
       "</style>\n",
       "<table border=\"1\" class=\"dataframe\">\n",
       "  <thead>\n",
       "    <tr style=\"text-align: right;\">\n",
       "      <th></th>\n",
       "      <th>stock_code</th>\n",
       "      <th>corp_name</th>\n",
       "      <th>corp_cls_nm</th>\n",
       "      <th>industry_krx_nm</th>\n",
       "      <th>industry_krx_desc</th>\n",
       "      <th>industry_wics_ls_nm</th>\n",
       "      <th>industry_wics_ls_cd</th>\n",
       "      <th>industry_wics_ms_nm</th>\n",
       "      <th>industry_wics_ms_cd</th>\n",
       "      <th>industry_wics_ss_nm</th>\n",
       "      <th>industry_wics_ss_cd</th>\n",
       "    </tr>\n",
       "  </thead>\n",
       "  <tbody>\n",
       "    <tr>\n",
       "      <th>1761</th>\n",
       "      <td>005930</td>\n",
       "      <td>삼성전자</td>\n",
       "      <td>kospi</td>\n",
       "      <td>통신 및 방송 장비 제조업</td>\n",
       "      <td>통신 및 방송 장비 제조(무선) 제품, 반도체 제조(메모리) 제품,  전자부품 제조...</td>\n",
       "      <td>IT</td>\n",
       "      <td>45.0</td>\n",
       "      <td>반도체와반도체장비</td>\n",
       "      <td>4530.0</td>\n",
       "      <td>반도체와반도체장비</td>\n",
       "      <td>453010.0</td>\n",
       "    </tr>\n",
       "  </tbody>\n",
       "</table>\n",
       "</div>"
      ],
      "text/plain": [
       "     stock_code corp_name corp_cls_nm industry_krx_nm  \\\n",
       "1761     005930      삼성전자       kospi  통신 및 방송 장비 제조업   \n",
       "\n",
       "                                      industry_krx_desc industry_wics_ls_nm  \\\n",
       "1761  통신 및 방송 장비 제조(무선) 제품, 반도체 제조(메모리) 제품,  전자부품 제조...                  IT   \n",
       "\n",
       "      industry_wics_ls_cd industry_wics_ms_nm  industry_wics_ms_cd  \\\n",
       "1761                 45.0           반도체와반도체장비               4530.0   \n",
       "\n",
       "     industry_wics_ss_nm  industry_wics_ss_cd  \n",
       "1761           반도체와반도체장비             453010.0  "
      ]
     },
     "execution_count": 32,
     "metadata": {},
     "output_type": "execute_result"
    }
   ],
   "source": [
    "df_corps[df_corps['corp_name'] == '삼성전자']"
   ]
  },
  {
   "cell_type": "code",
   "execution_count": 33,
   "metadata": {},
   "outputs": [
    {
     "data": {
      "text/plain": [
       "'005930'"
      ]
     },
     "execution_count": 33,
     "metadata": {},
     "output_type": "execute_result"
    }
   ],
   "source": [
    "stock_code = df_corps[df_corps['corp_name'] == '삼성전자']['stock_code'].values[0]\n",
    "stock_code"
   ]
  },
  {
   "cell_type": "code",
   "execution_count": 34,
   "metadata": {},
   "outputs": [
    {
     "name": "stdout",
     "output_type": "stream",
     "text": [
      "(5803, 8)\n"
     ]
    },
    {
     "data": {
      "text/html": [
       "<div>\n",
       "<style scoped>\n",
       "    .dataframe tbody tr th:only-of-type {\n",
       "        vertical-align: middle;\n",
       "    }\n",
       "\n",
       "    .dataframe tbody tr th {\n",
       "        vertical-align: top;\n",
       "    }\n",
       "\n",
       "    .dataframe thead th {\n",
       "        text-align: right;\n",
       "    }\n",
       "</style>\n",
       "<table border=\"1\" class=\"dataframe\">\n",
       "  <thead>\n",
       "    <tr style=\"text-align: right;\">\n",
       "      <th></th>\n",
       "      <th>Date</th>\n",
       "      <th>Open</th>\n",
       "      <th>High</th>\n",
       "      <th>Low</th>\n",
       "      <th>Close</th>\n",
       "      <th>Volume</th>\n",
       "      <th>Change</th>\n",
       "      <th>stock_code</th>\n",
       "    </tr>\n",
       "  </thead>\n",
       "  <tbody>\n",
       "    <tr>\n",
       "      <th>0</th>\n",
       "      <td>2000-01-04</td>\n",
       "      <td>6000</td>\n",
       "      <td>6110</td>\n",
       "      <td>5660</td>\n",
       "      <td>6110</td>\n",
       "      <td>1483967</td>\n",
       "      <td>0.148496</td>\n",
       "      <td>005930</td>\n",
       "    </tr>\n",
       "    <tr>\n",
       "      <th>1</th>\n",
       "      <td>2000-01-05</td>\n",
       "      <td>5800</td>\n",
       "      <td>6060</td>\n",
       "      <td>5520</td>\n",
       "      <td>5580</td>\n",
       "      <td>1493604</td>\n",
       "      <td>-0.086743</td>\n",
       "      <td>005930</td>\n",
       "    </tr>\n",
       "    <tr>\n",
       "      <th>2</th>\n",
       "      <td>2000-01-06</td>\n",
       "      <td>5750</td>\n",
       "      <td>5780</td>\n",
       "      <td>5580</td>\n",
       "      <td>5620</td>\n",
       "      <td>1087810</td>\n",
       "      <td>0.007168</td>\n",
       "      <td>005930</td>\n",
       "    </tr>\n",
       "    <tr>\n",
       "      <th>3</th>\n",
       "      <td>2000-01-07</td>\n",
       "      <td>5560</td>\n",
       "      <td>5670</td>\n",
       "      <td>5360</td>\n",
       "      <td>5540</td>\n",
       "      <td>806195</td>\n",
       "      <td>-0.014235</td>\n",
       "      <td>005930</td>\n",
       "    </tr>\n",
       "    <tr>\n",
       "      <th>4</th>\n",
       "      <td>2000-01-10</td>\n",
       "      <td>5600</td>\n",
       "      <td>5770</td>\n",
       "      <td>5580</td>\n",
       "      <td>5770</td>\n",
       "      <td>937615</td>\n",
       "      <td>0.041516</td>\n",
       "      <td>005930</td>\n",
       "    </tr>\n",
       "  </tbody>\n",
       "</table>\n",
       "</div>"
      ],
      "text/plain": [
       "        Date  Open  High   Low  Close   Volume    Change stock_code\n",
       "0 2000-01-04  6000  6110  5660   6110  1483967  0.148496     005930\n",
       "1 2000-01-05  5800  6060  5520   5580  1493604 -0.086743     005930\n",
       "2 2000-01-06  5750  5780  5580   5620  1087810  0.007168     005930\n",
       "3 2000-01-07  5560  5670  5360   5540   806195 -0.014235     005930\n",
       "4 2000-01-10  5600  5770  5580   5770   937615  0.041516     005930"
      ]
     },
     "execution_count": 34,
     "metadata": {},
     "output_type": "execute_result"
    }
   ],
   "source": [
    "df1 = fdr.DataReader(stock_code, '2000')\n",
    "df1['stock_code'] = stock_code\n",
    "df1.reset_index(inplace=True)\n",
    "\n",
    "print(df1.shape)\n",
    "df1.head()"
   ]
  },
  {
   "cell_type": "code",
   "execution_count": 35,
   "metadata": {},
   "outputs": [
    {
     "data": {
      "text/plain": [
       "'035420'"
      ]
     },
     "execution_count": 35,
     "metadata": {},
     "output_type": "execute_result"
    }
   ],
   "source": [
    "stock_code = df_corps[df_corps['corp_name'] == 'NAVER']['stock_code'].values[0]\n",
    "stock_code"
   ]
  },
  {
   "cell_type": "code",
   "execution_count": 36,
   "metadata": {},
   "outputs": [
    {
     "name": "stdout",
     "output_type": "stream",
     "text": [
      "(5115, 8)\n"
     ]
    },
    {
     "data": {
      "text/html": [
       "<div>\n",
       "<style scoped>\n",
       "    .dataframe tbody tr th:only-of-type {\n",
       "        vertical-align: middle;\n",
       "    }\n",
       "\n",
       "    .dataframe tbody tr th {\n",
       "        vertical-align: top;\n",
       "    }\n",
       "\n",
       "    .dataframe thead th {\n",
       "        text-align: right;\n",
       "    }\n",
       "</style>\n",
       "<table border=\"1\" class=\"dataframe\">\n",
       "  <thead>\n",
       "    <tr style=\"text-align: right;\">\n",
       "      <th></th>\n",
       "      <th>Date</th>\n",
       "      <th>Open</th>\n",
       "      <th>High</th>\n",
       "      <th>Low</th>\n",
       "      <th>Close</th>\n",
       "      <th>Volume</th>\n",
       "      <th>Change</th>\n",
       "      <th>stock_code</th>\n",
       "    </tr>\n",
       "  </thead>\n",
       "  <tbody>\n",
       "    <tr>\n",
       "      <th>0</th>\n",
       "      <td>2002-10-29</td>\n",
       "      <td>2312</td>\n",
       "      <td>2312</td>\n",
       "      <td>2312</td>\n",
       "      <td>2312</td>\n",
       "      <td>20549</td>\n",
       "      <td>NaN</td>\n",
       "      <td>035420</td>\n",
       "    </tr>\n",
       "    <tr>\n",
       "      <th>1</th>\n",
       "      <td>2002-10-30</td>\n",
       "      <td>2587</td>\n",
       "      <td>2587</td>\n",
       "      <td>2558</td>\n",
       "      <td>2588</td>\n",
       "      <td>853638</td>\n",
       "      <td>0.119377</td>\n",
       "      <td>035420</td>\n",
       "    </tr>\n",
       "    <tr>\n",
       "      <th>2</th>\n",
       "      <td>2002-10-31</td>\n",
       "      <td>2626</td>\n",
       "      <td>2689</td>\n",
       "      <td>2398</td>\n",
       "      <td>2459</td>\n",
       "      <td>1320880</td>\n",
       "      <td>-0.049845</td>\n",
       "      <td>035420</td>\n",
       "    </tr>\n",
       "    <tr>\n",
       "      <th>3</th>\n",
       "      <td>2002-11-01</td>\n",
       "      <td>2520</td>\n",
       "      <td>2599</td>\n",
       "      <td>2215</td>\n",
       "      <td>2305</td>\n",
       "      <td>750761</td>\n",
       "      <td>-0.062627</td>\n",
       "      <td>035420</td>\n",
       "    </tr>\n",
       "    <tr>\n",
       "      <th>4</th>\n",
       "      <td>2002-11-04</td>\n",
       "      <td>2285</td>\n",
       "      <td>2300</td>\n",
       "      <td>2135</td>\n",
       "      <td>2191</td>\n",
       "      <td>692165</td>\n",
       "      <td>-0.049458</td>\n",
       "      <td>035420</td>\n",
       "    </tr>\n",
       "  </tbody>\n",
       "</table>\n",
       "</div>"
      ],
      "text/plain": [
       "        Date  Open  High   Low  Close   Volume    Change stock_code\n",
       "0 2002-10-29  2312  2312  2312   2312    20549       NaN     035420\n",
       "1 2002-10-30  2587  2587  2558   2588   853638  0.119377     035420\n",
       "2 2002-10-31  2626  2689  2398   2459  1320880 -0.049845     035420\n",
       "3 2002-11-01  2520  2599  2215   2305   750761 -0.062627     035420\n",
       "4 2002-11-04  2285  2300  2135   2191   692165 -0.049458     035420"
      ]
     },
     "execution_count": 36,
     "metadata": {},
     "output_type": "execute_result"
    }
   ],
   "source": [
    "df2 = fdr.DataReader(stock_code, '2000')\n",
    "df2['stock_code'] = stock_code\n",
    "df2.reset_index(inplace=True)\n",
    "\n",
    "print(df2.shape)\n",
    "df2.head()"
   ]
  },
  {
   "cell_type": "code",
   "execution_count": 37,
   "metadata": {},
   "outputs": [
    {
     "name": "stdout",
     "output_type": "stream",
     "text": [
      "(10918, 8)\n"
     ]
    },
    {
     "data": {
      "text/html": [
       "<div>\n",
       "<style scoped>\n",
       "    .dataframe tbody tr th:only-of-type {\n",
       "        vertical-align: middle;\n",
       "    }\n",
       "\n",
       "    .dataframe tbody tr th {\n",
       "        vertical-align: top;\n",
       "    }\n",
       "\n",
       "    .dataframe thead th {\n",
       "        text-align: right;\n",
       "    }\n",
       "</style>\n",
       "<table border=\"1\" class=\"dataframe\">\n",
       "  <thead>\n",
       "    <tr style=\"text-align: right;\">\n",
       "      <th></th>\n",
       "      <th>Date</th>\n",
       "      <th>Open</th>\n",
       "      <th>High</th>\n",
       "      <th>Low</th>\n",
       "      <th>Close</th>\n",
       "      <th>Volume</th>\n",
       "      <th>Change</th>\n",
       "      <th>stock_code</th>\n",
       "    </tr>\n",
       "  </thead>\n",
       "  <tbody>\n",
       "    <tr>\n",
       "      <th>0</th>\n",
       "      <td>2000-01-04</td>\n",
       "      <td>6000</td>\n",
       "      <td>6110</td>\n",
       "      <td>5660</td>\n",
       "      <td>6110</td>\n",
       "      <td>1483967</td>\n",
       "      <td>0.148496</td>\n",
       "      <td>005930</td>\n",
       "    </tr>\n",
       "    <tr>\n",
       "      <th>1</th>\n",
       "      <td>2000-01-05</td>\n",
       "      <td>5800</td>\n",
       "      <td>6060</td>\n",
       "      <td>5520</td>\n",
       "      <td>5580</td>\n",
       "      <td>1493604</td>\n",
       "      <td>-0.086743</td>\n",
       "      <td>005930</td>\n",
       "    </tr>\n",
       "    <tr>\n",
       "      <th>2</th>\n",
       "      <td>2000-01-06</td>\n",
       "      <td>5750</td>\n",
       "      <td>5780</td>\n",
       "      <td>5580</td>\n",
       "      <td>5620</td>\n",
       "      <td>1087810</td>\n",
       "      <td>0.007168</td>\n",
       "      <td>005930</td>\n",
       "    </tr>\n",
       "    <tr>\n",
       "      <th>3</th>\n",
       "      <td>2000-01-07</td>\n",
       "      <td>5560</td>\n",
       "      <td>5670</td>\n",
       "      <td>5360</td>\n",
       "      <td>5540</td>\n",
       "      <td>806195</td>\n",
       "      <td>-0.014235</td>\n",
       "      <td>005930</td>\n",
       "    </tr>\n",
       "    <tr>\n",
       "      <th>4</th>\n",
       "      <td>2000-01-10</td>\n",
       "      <td>5600</td>\n",
       "      <td>5770</td>\n",
       "      <td>5580</td>\n",
       "      <td>5770</td>\n",
       "      <td>937615</td>\n",
       "      <td>0.041516</td>\n",
       "      <td>005930</td>\n",
       "    </tr>\n",
       "  </tbody>\n",
       "</table>\n",
       "</div>"
      ],
      "text/plain": [
       "        Date  Open  High   Low  Close   Volume    Change stock_code\n",
       "0 2000-01-04  6000  6110  5660   6110  1483967  0.148496     005930\n",
       "1 2000-01-05  5800  6060  5520   5580  1493604 -0.086743     005930\n",
       "2 2000-01-06  5750  5780  5580   5620  1087810  0.007168     005930\n",
       "3 2000-01-07  5560  5670  5360   5540   806195 -0.014235     005930\n",
       "4 2000-01-10  5600  5770  5580   5770   937615  0.041516     005930"
      ]
     },
     "execution_count": 37,
     "metadata": {},
     "output_type": "execute_result"
    }
   ],
   "source": [
    "df = pd.concat([df1,df2], ignore_index=True)\n",
    "\n",
    "print(df.shape)\n",
    "df.head()"
   ]
  },
  {
   "cell_type": "code",
   "execution_count": 38,
   "metadata": {},
   "outputs": [
    {
     "data": {
      "text/plain": [
       "stock_code\n",
       "005930    5803\n",
       "035420    5115\n",
       "Name: count, dtype: int64"
      ]
     },
     "execution_count": 38,
     "metadata": {},
     "output_type": "execute_result"
    }
   ],
   "source": [
    "df['stock_code'].value_counts()"
   ]
  },
  {
   "attachments": {},
   "cell_type": "markdown",
   "metadata": {},
   "source": [
    "## 주식 데이터 수집 "
   ]
  },
  {
   "cell_type": "code",
   "execution_count": 42,
   "metadata": {},
   "outputs": [],
   "source": [
    "df = pd.DataFrame()\n",
    "\n",
    "for stock_code in df_corps['stock_code'].values:\n",
    "    stock_code = str(stock_code)\n",
    "    _df = fdr.DataReader(stock_code, '2000')\n",
    "    _df['stock_code'] = stock_code\n",
    "    _df.reset_index(inplace=True) \n",
    "\n",
    "    df = pd.concat([df,_df], ignore_index=True)"
   ]
  },
  {
   "cell_type": "code",
   "execution_count": 44,
   "metadata": {},
   "outputs": [
    {
     "name": "stdout",
     "output_type": "stream",
     "text": [
      "(8637331, 8) / Date             0\n",
      "Open             0\n",
      "High             0\n",
      "Low              0\n",
      "Close            0\n",
      "Volume           0\n",
      "Change        1828\n",
      "stock_code       0\n",
      "dtype: int64\n"
     ]
    },
    {
     "data": {
      "text/html": [
       "<div>\n",
       "<style scoped>\n",
       "    .dataframe tbody tr th:only-of-type {\n",
       "        vertical-align: middle;\n",
       "    }\n",
       "\n",
       "    .dataframe tbody tr th {\n",
       "        vertical-align: top;\n",
       "    }\n",
       "\n",
       "    .dataframe thead th {\n",
       "        text-align: right;\n",
       "    }\n",
       "</style>\n",
       "<table border=\"1\" class=\"dataframe\">\n",
       "  <thead>\n",
       "    <tr style=\"text-align: right;\">\n",
       "      <th></th>\n",
       "      <th>Date</th>\n",
       "      <th>Open</th>\n",
       "      <th>High</th>\n",
       "      <th>Low</th>\n",
       "      <th>Close</th>\n",
       "      <th>Volume</th>\n",
       "      <th>Change</th>\n",
       "      <th>stock_code</th>\n",
       "    </tr>\n",
       "  </thead>\n",
       "  <tbody>\n",
       "    <tr>\n",
       "      <th>0</th>\n",
       "      <td>2013-05-30</td>\n",
       "      <td>9000</td>\n",
       "      <td>10350</td>\n",
       "      <td>9000</td>\n",
       "      <td>10350</td>\n",
       "      <td>481546</td>\n",
       "      <td>NaN</td>\n",
       "      <td>950130</td>\n",
       "    </tr>\n",
       "    <tr>\n",
       "      <th>1</th>\n",
       "      <td>2013-05-31</td>\n",
       "      <td>11900</td>\n",
       "      <td>11900</td>\n",
       "      <td>11750</td>\n",
       "      <td>11900</td>\n",
       "      <td>3147904</td>\n",
       "      <td>0.149758</td>\n",
       "      <td>950130</td>\n",
       "    </tr>\n",
       "    <tr>\n",
       "      <th>2</th>\n",
       "      <td>2013-06-03</td>\n",
       "      <td>12200</td>\n",
       "      <td>12350</td>\n",
       "      <td>11450</td>\n",
       "      <td>12150</td>\n",
       "      <td>5255396</td>\n",
       "      <td>0.021008</td>\n",
       "      <td>950130</td>\n",
       "    </tr>\n",
       "    <tr>\n",
       "      <th>3</th>\n",
       "      <td>2013-06-04</td>\n",
       "      <td>12150</td>\n",
       "      <td>12250</td>\n",
       "      <td>10600</td>\n",
       "      <td>11300</td>\n",
       "      <td>2711946</td>\n",
       "      <td>-0.069959</td>\n",
       "      <td>950130</td>\n",
       "    </tr>\n",
       "    <tr>\n",
       "      <th>4</th>\n",
       "      <td>2013-06-05</td>\n",
       "      <td>11300</td>\n",
       "      <td>11400</td>\n",
       "      <td>10200</td>\n",
       "      <td>10200</td>\n",
       "      <td>1512415</td>\n",
       "      <td>-0.097345</td>\n",
       "      <td>950130</td>\n",
       "    </tr>\n",
       "  </tbody>\n",
       "</table>\n",
       "</div>"
      ],
      "text/plain": [
       "        Date   Open   High    Low  Close   Volume    Change stock_code\n",
       "0 2013-05-30   9000  10350   9000  10350   481546       NaN     950130\n",
       "1 2013-05-31  11900  11900  11750  11900  3147904  0.149758     950130\n",
       "2 2013-06-03  12200  12350  11450  12150  5255396  0.021008     950130\n",
       "3 2013-06-04  12150  12250  10600  11300  2711946 -0.069959     950130\n",
       "4 2013-06-05  11300  11400  10200  10200  1512415 -0.097345     950130"
      ]
     },
     "execution_count": 44,
     "metadata": {},
     "output_type": "execute_result"
    }
   ],
   "source": [
    "print(f'{df.shape} / {df.isnull().sum()}')\n",
    "\n",
    "df.head()"
   ]
  },
  {
   "cell_type": "code",
   "execution_count": 45,
   "metadata": {},
   "outputs": [
    {
     "name": "stdout",
     "output_type": "stream",
     "text": [
      "2481\n",
      "2481\n"
     ]
    }
   ],
   "source": [
    "print(f'{len(df_corps[\"stock_code\"].values)}') \n",
    "print(f'{df[\"stock_code\"].nunique()}') "
   ]
  },
  {
   "cell_type": "code",
   "execution_count": 46,
   "metadata": {},
   "outputs": [],
   "source": [
    "save_path = '../data/stocks_from_2000.csv'\n",
    "\n",
    "df.to_csv(save_path, header=True, index=False, encoding='utf-8')"
   ]
  },
  {
   "cell_type": "code",
   "execution_count": 47,
   "metadata": {},
   "outputs": [
    {
     "name": "stdout",
     "output_type": "stream",
     "text": [
      "<class 'pandas.core.frame.DataFrame'>\n",
      "RangeIndex: 8637331 entries, 0 to 8637330\n",
      "Data columns (total 8 columns):\n",
      " #   Column      Dtype         \n",
      "---  ------      -----         \n",
      " 0   Date        datetime64[ns]\n",
      " 1   Open        int64         \n",
      " 2   High        int64         \n",
      " 3   Low         int64         \n",
      " 4   Close       int64         \n",
      " 5   Volume      int64         \n",
      " 6   Change      float64       \n",
      " 7   stock_code  object        \n",
      "dtypes: datetime64[ns](1), float64(1), int64(5), object(1)\n",
      "memory usage: 527.2+ MB\n"
     ]
    }
   ],
   "source": [
    "df.info()"
   ]
  },
  {
   "cell_type": "code",
   "execution_count": null,
   "metadata": {},
   "outputs": [],
   "source": []
  },
  {
   "cell_type": "code",
   "execution_count": null,
   "metadata": {},
   "outputs": [],
   "source": []
  },
  {
   "cell_type": "code",
   "execution_count": null,
   "metadata": {},
   "outputs": [],
   "source": []
  },
  {
   "cell_type": "code",
   "execution_count": null,
   "metadata": {},
   "outputs": [],
   "source": []
  }
 ],
 "metadata": {
  "kernelspec": {
   "display_name": "stock-venv",
   "language": "python",
   "name": "python3"
  },
  "language_info": {
   "codemirror_mode": {
    "name": "ipython",
    "version": 3
   },
   "file_extension": ".py",
   "mimetype": "text/x-python",
   "name": "python",
   "nbconvert_exporter": "python",
   "pygments_lexer": "ipython3",
   "version": "3.11.3"
  },
  "orig_nbformat": 4
 },
 "nbformat": 4,
 "nbformat_minor": 2
}
