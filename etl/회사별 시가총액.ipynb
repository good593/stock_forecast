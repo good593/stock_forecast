{
 "cells": [
  {
   "cell_type": "markdown",
   "metadata": {},
   "source": [
    "# [참고문서](https://appia.tistory.com/428)"
   ]
  },
  {
   "cell_type": "markdown",
   "metadata": {},
   "source": [
    "# 일자별 시가총액"
   ]
  },
  {
   "cell_type": "markdown",
   "metadata": {},
   "source": [
    "- 예시"
   ]
  },
  {
   "cell_type": "code",
   "execution_count": 1,
   "metadata": {},
   "outputs": [
    {
     "data": {
      "text/html": [
       "<div>\n",
       "<style scoped>\n",
       "    .dataframe tbody tr th:only-of-type {\n",
       "        vertical-align: middle;\n",
       "    }\n",
       "\n",
       "    .dataframe tbody tr th {\n",
       "        vertical-align: top;\n",
       "    }\n",
       "\n",
       "    .dataframe thead th {\n",
       "        text-align: right;\n",
       "    }\n",
       "</style>\n",
       "<table border=\"1\" class=\"dataframe\">\n",
       "  <thead>\n",
       "    <tr style=\"text-align: right;\">\n",
       "      <th></th>\n",
       "      <th>시가총액</th>\n",
       "      <th>거래량</th>\n",
       "      <th>거래대금</th>\n",
       "      <th>상장주식수</th>\n",
       "    </tr>\n",
       "    <tr>\n",
       "      <th>날짜</th>\n",
       "      <th></th>\n",
       "      <th></th>\n",
       "      <th></th>\n",
       "      <th></th>\n",
       "    </tr>\n",
       "  </thead>\n",
       "  <tbody>\n",
       "    <tr>\n",
       "      <th>2000-12-31</th>\n",
       "      <td>34493892480</td>\n",
       "      <td>59001040</td>\n",
       "      <td>758103262000</td>\n",
       "      <td>5423568</td>\n",
       "    </tr>\n",
       "    <tr>\n",
       "      <th>2001-12-31</th>\n",
       "      <td>51338041860</td>\n",
       "      <td>57464100</td>\n",
       "      <td>538344129100</td>\n",
       "      <td>5586294</td>\n",
       "    </tr>\n",
       "    <tr>\n",
       "      <th>2002-12-31</th>\n",
       "      <td>36366773940</td>\n",
       "      <td>18586221</td>\n",
       "      <td>167972254530</td>\n",
       "      <td>5586294</td>\n",
       "    </tr>\n",
       "    <tr>\n",
       "      <th>2003-12-31</th>\n",
       "      <td>37707484500</td>\n",
       "      <td>9604990</td>\n",
       "      <td>69110673200</td>\n",
       "      <td>5586294</td>\n",
       "    </tr>\n",
       "    <tr>\n",
       "      <th>2004-12-31</th>\n",
       "      <td>47092458420</td>\n",
       "      <td>6104981</td>\n",
       "      <td>46488174470</td>\n",
       "      <td>5586294</td>\n",
       "    </tr>\n",
       "    <tr>\n",
       "      <th>2005-12-31</th>\n",
       "      <td>104743012500</td>\n",
       "      <td>28012768</td>\n",
       "      <td>477363346700</td>\n",
       "      <td>5586294</td>\n",
       "    </tr>\n",
       "    <tr>\n",
       "      <th>2006-12-31</th>\n",
       "      <td>180437296200</td>\n",
       "      <td>13371594</td>\n",
       "      <td>328730166550</td>\n",
       "      <td>5586294</td>\n",
       "    </tr>\n",
       "    <tr>\n",
       "      <th>2007-12-31</th>\n",
       "      <td>299425358400</td>\n",
       "      <td>9259965</td>\n",
       "      <td>571073024250</td>\n",
       "      <td>5586294</td>\n",
       "    </tr>\n",
       "    <tr>\n",
       "      <th>2008-12-31</th>\n",
       "      <td>172616484600</td>\n",
       "      <td>6749141</td>\n",
       "      <td>262185509850</td>\n",
       "      <td>5586294</td>\n",
       "    </tr>\n",
       "    <tr>\n",
       "      <th>2009-12-31</th>\n",
       "      <td>211720542600</td>\n",
       "      <td>34570154</td>\n",
       "      <td>476907101210</td>\n",
       "      <td>27931470</td>\n",
       "    </tr>\n",
       "    <tr>\n",
       "      <th>2010-12-31</th>\n",
       "      <td>147757476300</td>\n",
       "      <td>24897148</td>\n",
       "      <td>141536752210</td>\n",
       "      <td>27931470</td>\n",
       "    </tr>\n",
       "    <tr>\n",
       "      <th>2011-12-31</th>\n",
       "      <td>113960397600</td>\n",
       "      <td>35915126</td>\n",
       "      <td>179514906590</td>\n",
       "      <td>27931470</td>\n",
       "    </tr>\n",
       "    <tr>\n",
       "      <th>2012-12-31</th>\n",
       "      <td>168706078800</td>\n",
       "      <td>32035524</td>\n",
       "      <td>175849366405</td>\n",
       "      <td>27931470</td>\n",
       "    </tr>\n",
       "    <tr>\n",
       "      <th>2013-12-31</th>\n",
       "      <td>122619153300</td>\n",
       "      <td>20256240</td>\n",
       "      <td>124317448830</td>\n",
       "      <td>27931470</td>\n",
       "    </tr>\n",
       "    <tr>\n",
       "      <th>2014-12-31</th>\n",
       "      <td>155578287900</td>\n",
       "      <td>20925838</td>\n",
       "      <td>114816661840</td>\n",
       "      <td>27931470</td>\n",
       "    </tr>\n",
       "    <tr>\n",
       "      <th>2015-12-31</th>\n",
       "      <td>227362165800</td>\n",
       "      <td>54304424</td>\n",
       "      <td>468312986660</td>\n",
       "      <td>27931470</td>\n",
       "    </tr>\n",
       "    <tr>\n",
       "      <th>2016-12-31</th>\n",
       "      <td>226803536400</td>\n",
       "      <td>72074781</td>\n",
       "      <td>678265099570</td>\n",
       "      <td>27931470</td>\n",
       "    </tr>\n",
       "    <tr>\n",
       "      <th>2017-12-31</th>\n",
       "      <td>272331832500</td>\n",
       "      <td>33875649</td>\n",
       "      <td>314630226480</td>\n",
       "      <td>27931470</td>\n",
       "    </tr>\n",
       "    <tr>\n",
       "      <th>2018-12-31</th>\n",
       "      <td>254176377000</td>\n",
       "      <td>46713393</td>\n",
       "      <td>524531928930</td>\n",
       "      <td>27931470</td>\n",
       "    </tr>\n",
       "    <tr>\n",
       "      <th>2019-12-31</th>\n",
       "      <td>232110515700</td>\n",
       "      <td>22652024</td>\n",
       "      <td>197965184300</td>\n",
       "      <td>27931470</td>\n",
       "    </tr>\n",
       "    <tr>\n",
       "      <th>2020-12-31</th>\n",
       "      <td>499973313000</td>\n",
       "      <td>302989118</td>\n",
       "      <td>5622175360035</td>\n",
       "      <td>27931470</td>\n",
       "    </tr>\n",
       "  </tbody>\n",
       "</table>\n",
       "</div>"
      ],
      "text/plain": [
       "                    시가총액        거래량           거래대금     상장주식수\n",
       "날짜                                                          \n",
       "2000-12-31   34493892480   59001040   758103262000   5423568\n",
       "2001-12-31   51338041860   57464100   538344129100   5586294\n",
       "2002-12-31   36366773940   18586221   167972254530   5586294\n",
       "2003-12-31   37707484500    9604990    69110673200   5586294\n",
       "2004-12-31   47092458420    6104981    46488174470   5586294\n",
       "2005-12-31  104743012500   28012768   477363346700   5586294\n",
       "2006-12-31  180437296200   13371594   328730166550   5586294\n",
       "2007-12-31  299425358400    9259965   571073024250   5586294\n",
       "2008-12-31  172616484600    6749141   262185509850   5586294\n",
       "2009-12-31  211720542600   34570154   476907101210  27931470\n",
       "2010-12-31  147757476300   24897148   141536752210  27931470\n",
       "2011-12-31  113960397600   35915126   179514906590  27931470\n",
       "2012-12-31  168706078800   32035524   175849366405  27931470\n",
       "2013-12-31  122619153300   20256240   124317448830  27931470\n",
       "2014-12-31  155578287900   20925838   114816661840  27931470\n",
       "2015-12-31  227362165800   54304424   468312986660  27931470\n",
       "2016-12-31  226803536400   72074781   678265099570  27931470\n",
       "2017-12-31  272331832500   33875649   314630226480  27931470\n",
       "2018-12-31  254176377000   46713393   524531928930  27931470\n",
       "2019-12-31  232110515700   22652024   197965184300  27931470\n",
       "2020-12-31  499973313000  302989118  5622175360035  27931470"
      ]
     },
     "execution_count": 1,
     "metadata": {},
     "output_type": "execute_result"
    }
   ],
   "source": [
    "from pykrx import stock\n",
    "\n",
    "df1 = stock.get_market_cap_by_date(\"20000101\", \"20201030\", \"000020\", \"y\")\n",
    "df1"
   ]
  },
  {
   "cell_type": "markdown",
   "metadata": {},
   "source": [
    "# 종목별 시가총액 "
   ]
  },
  {
   "cell_type": "markdown",
   "metadata": {},
   "source": [
    "- 예시"
   ]
  },
  {
   "cell_type": "code",
   "execution_count": 2,
   "metadata": {},
   "outputs": [
    {
     "data": {
      "text/html": [
       "<div>\n",
       "<style scoped>\n",
       "    .dataframe tbody tr th:only-of-type {\n",
       "        vertical-align: middle;\n",
       "    }\n",
       "\n",
       "    .dataframe tbody tr th {\n",
       "        vertical-align: top;\n",
       "    }\n",
       "\n",
       "    .dataframe thead th {\n",
       "        text-align: right;\n",
       "    }\n",
       "</style>\n",
       "<table border=\"1\" class=\"dataframe\">\n",
       "  <thead>\n",
       "    <tr style=\"text-align: right;\">\n",
       "      <th></th>\n",
       "      <th>종가</th>\n",
       "      <th>시가총액</th>\n",
       "      <th>거래량</th>\n",
       "      <th>거래대금</th>\n",
       "      <th>상장주식수</th>\n",
       "    </tr>\n",
       "    <tr>\n",
       "      <th>티커</th>\n",
       "      <th></th>\n",
       "      <th></th>\n",
       "      <th></th>\n",
       "      <th></th>\n",
       "      <th></th>\n",
       "    </tr>\n",
       "  </thead>\n",
       "  <tbody>\n",
       "    <tr>\n",
       "      <th>005930</th>\n",
       "      <td>56600</td>\n",
       "      <td>337889692330000</td>\n",
       "      <td>26907844</td>\n",
       "      <td>1541223383000</td>\n",
       "      <td>5969782550</td>\n",
       "    </tr>\n",
       "    <tr>\n",
       "      <th>000660</th>\n",
       "      <td>79900</td>\n",
       "      <td>58167388963500</td>\n",
       "      <td>2710477</td>\n",
       "      <td>219064698950</td>\n",
       "      <td>728002365</td>\n",
       "    </tr>\n",
       "    <tr>\n",
       "      <th>035420</th>\n",
       "      <td>290000</td>\n",
       "      <td>47636384550000</td>\n",
       "      <td>939833</td>\n",
       "      <td>275981100000</td>\n",
       "      <td>164263395</td>\n",
       "    </tr>\n",
       "    <tr>\n",
       "      <th>207940</th>\n",
       "      <td>682000</td>\n",
       "      <td>45124530000000</td>\n",
       "      <td>251134</td>\n",
       "      <td>174660762000</td>\n",
       "      <td>66165000</td>\n",
       "    </tr>\n",
       "    <tr>\n",
       "      <th>051910</th>\n",
       "      <td>611000</td>\n",
       "      <td>43131921573000</td>\n",
       "      <td>820454</td>\n",
       "      <td>512035157000</td>\n",
       "      <td>70592343</td>\n",
       "    </tr>\n",
       "    <tr>\n",
       "      <th>...</th>\n",
       "      <td>...</td>\n",
       "      <td>...</td>\n",
       "      <td>...</td>\n",
       "      <td>...</td>\n",
       "      <td>...</td>\n",
       "    </tr>\n",
       "    <tr>\n",
       "      <th>224020</th>\n",
       "      <td>910</td>\n",
       "      <td>2457000000</td>\n",
       "      <td>0</td>\n",
       "      <td>0</td>\n",
       "      <td>2700000</td>\n",
       "    </tr>\n",
       "    <tr>\n",
       "      <th>267810</th>\n",
       "      <td>1450</td>\n",
       "      <td>2243150000</td>\n",
       "      <td>2003</td>\n",
       "      <td>2554350</td>\n",
       "      <td>1547000</td>\n",
       "    </tr>\n",
       "    <tr>\n",
       "      <th>238500</th>\n",
       "      <td>443</td>\n",
       "      <td>2074199538</td>\n",
       "      <td>4208</td>\n",
       "      <td>1777904</td>\n",
       "      <td>4682166</td>\n",
       "    </tr>\n",
       "    <tr>\n",
       "      <th>344860</th>\n",
       "      <td>1115</td>\n",
       "      <td>2073900000</td>\n",
       "      <td>0</td>\n",
       "      <td>0</td>\n",
       "      <td>1860000</td>\n",
       "    </tr>\n",
       "    <tr>\n",
       "      <th>225860</th>\n",
       "      <td>159</td>\n",
       "      <td>1805936628</td>\n",
       "      <td>10753</td>\n",
       "      <td>1819284</td>\n",
       "      <td>11358092</td>\n",
       "    </tr>\n",
       "  </tbody>\n",
       "</table>\n",
       "<p>2507 rows × 5 columns</p>\n",
       "</div>"
      ],
      "text/plain": [
       "            종가             시가총액       거래량           거래대금       상장주식수\n",
       "티커                                                                  \n",
       "005930   56600  337889692330000  26907844  1541223383000  5969782550\n",
       "000660   79900   58167388963500   2710477   219064698950   728002365\n",
       "035420  290000   47636384550000    939833   275981100000   164263395\n",
       "207940  682000   45124530000000    251134   174660762000    66165000\n",
       "051910  611000   43131921573000    820454   512035157000    70592343\n",
       "...        ...              ...       ...            ...         ...\n",
       "224020     910       2457000000         0              0     2700000\n",
       "267810    1450       2243150000      2003        2554350     1547000\n",
       "238500     443       2074199538      4208        1777904     4682166\n",
       "344860    1115       2073900000         0              0     1860000\n",
       "225860     159       1805936628     10753        1819284    11358092\n",
       "\n",
       "[2507 rows x 5 columns]"
      ]
     },
     "execution_count": 2,
     "metadata": {},
     "output_type": "execute_result"
    }
   ],
   "source": [
    "from pykrx import stock\n",
    "\n",
    "df2 = stock.get_market_cap_by_ticker(\"20201030\")\n",
    "df2 "
   ]
  },
  {
   "cell_type": "code",
   "execution_count": 6,
   "metadata": {},
   "outputs": [],
   "source": [
    "from datetime import datetime\n",
    "from dateutil.relativedelta import relativedelta"
   ]
  },
  {
   "cell_type": "code",
   "execution_count": 9,
   "metadata": {},
   "outputs": [
    {
     "data": {
      "text/plain": [
       "datetime.datetime(2023, 8, 14, 17, 18, 23, 728937)"
      ]
     },
     "execution_count": 9,
     "metadata": {},
     "output_type": "execute_result"
    }
   ],
   "source": [
    "today = datetime.now()\n",
    "today"
   ]
  },
  {
   "cell_type": "code",
   "execution_count": 11,
   "metadata": {},
   "outputs": [
    {
     "data": {
      "text/plain": [
       "datetime.datetime(2023, 9, 1, 0, 0)"
      ]
     },
     "execution_count": 11,
     "metadata": {},
     "output_type": "execute_result"
    }
   ],
   "source": [
    "next_month = datetime(today.year, today.month, 1) + relativedelta(months=1)\n",
    "next_month"
   ]
  },
  {
   "cell_type": "code",
   "execution_count": 14,
   "metadata": {},
   "outputs": [
    {
     "data": {
      "text/plain": [
       "'20230831'"
      ]
     },
     "execution_count": 14,
     "metadata": {},
     "output_type": "execute_result"
    }
   ],
   "source": [
    "this_month_last = next_month + relativedelta(days=-1)\n",
    "this_month_last.strftime(\"%Y%m%d\")"
   ]
  },
  {
   "cell_type": "code",
   "execution_count": 22,
   "metadata": {},
   "outputs": [
    {
     "data": {
      "text/html": [
       "<div>\n",
       "<style scoped>\n",
       "    .dataframe tbody tr th:only-of-type {\n",
       "        vertical-align: middle;\n",
       "    }\n",
       "\n",
       "    .dataframe tbody tr th {\n",
       "        vertical-align: top;\n",
       "    }\n",
       "\n",
       "    .dataframe thead th {\n",
       "        text-align: right;\n",
       "    }\n",
       "</style>\n",
       "<table border=\"1\" class=\"dataframe\">\n",
       "  <thead>\n",
       "    <tr style=\"text-align: right;\">\n",
       "      <th></th>\n",
       "      <th>종가</th>\n",
       "      <th>시가총액</th>\n",
       "      <th>거래량</th>\n",
       "      <th>거래대금</th>\n",
       "      <th>상장주식수</th>\n",
       "    </tr>\n",
       "    <tr>\n",
       "      <th>티커</th>\n",
       "      <th></th>\n",
       "      <th></th>\n",
       "      <th></th>\n",
       "      <th></th>\n",
       "      <th></th>\n",
       "    </tr>\n",
       "  </thead>\n",
       "  <tbody>\n",
       "    <tr>\n",
       "      <th>060310</th>\n",
       "      <td>0</td>\n",
       "      <td>0</td>\n",
       "      <td>0</td>\n",
       "      <td>0</td>\n",
       "      <td>46271513</td>\n",
       "    </tr>\n",
       "    <tr>\n",
       "      <th>000220</th>\n",
       "      <td>0</td>\n",
       "      <td>0</td>\n",
       "      <td>0</td>\n",
       "      <td>0</td>\n",
       "      <td>17232351</td>\n",
       "    </tr>\n",
       "    <tr>\n",
       "      <th>000227</th>\n",
       "      <td>0</td>\n",
       "      <td>0</td>\n",
       "      <td>0</td>\n",
       "      <td>0</td>\n",
       "      <td>325560</td>\n",
       "    </tr>\n",
       "    <tr>\n",
       "      <th>388720</th>\n",
       "      <td>0</td>\n",
       "      <td>0</td>\n",
       "      <td>0</td>\n",
       "      <td>0</td>\n",
       "      <td>8580846</td>\n",
       "    </tr>\n",
       "    <tr>\n",
       "      <th>340930</th>\n",
       "      <td>0</td>\n",
       "      <td>0</td>\n",
       "      <td>0</td>\n",
       "      <td>0</td>\n",
       "      <td>10674744</td>\n",
       "    </tr>\n",
       "    <tr>\n",
       "      <th>...</th>\n",
       "      <td>...</td>\n",
       "      <td>...</td>\n",
       "      <td>...</td>\n",
       "      <td>...</td>\n",
       "      <td>...</td>\n",
       "    </tr>\n",
       "    <tr>\n",
       "      <th>003000</th>\n",
       "      <td>0</td>\n",
       "      <td>0</td>\n",
       "      <td>0</td>\n",
       "      <td>0</td>\n",
       "      <td>71063049</td>\n",
       "    </tr>\n",
       "    <tr>\n",
       "      <th>001270</th>\n",
       "      <td>0</td>\n",
       "      <td>0</td>\n",
       "      <td>0</td>\n",
       "      <td>0</td>\n",
       "      <td>10369886</td>\n",
       "    </tr>\n",
       "    <tr>\n",
       "      <th>001275</th>\n",
       "      <td>0</td>\n",
       "      <td>0</td>\n",
       "      <td>0</td>\n",
       "      <td>0</td>\n",
       "      <td>3000000</td>\n",
       "    </tr>\n",
       "    <tr>\n",
       "      <th>026940</th>\n",
       "      <td>0</td>\n",
       "      <td>0</td>\n",
       "      <td>0</td>\n",
       "      <td>0</td>\n",
       "      <td>20000000</td>\n",
       "    </tr>\n",
       "    <tr>\n",
       "      <th>238490</th>\n",
       "      <td>0</td>\n",
       "      <td>0</td>\n",
       "      <td>0</td>\n",
       "      <td>0</td>\n",
       "      <td>11312236</td>\n",
       "    </tr>\n",
       "  </tbody>\n",
       "</table>\n",
       "<p>2422 rows × 5 columns</p>\n",
       "</div>"
      ],
      "text/plain": [
       "        종가  시가총액  거래량  거래대금     상장주식수\n",
       "티커                                   \n",
       "060310   0     0    0     0  46271513\n",
       "000220   0     0    0     0  17232351\n",
       "000227   0     0    0     0    325560\n",
       "388720   0     0    0     0   8580846\n",
       "340930   0     0    0     0  10674744\n",
       "...     ..   ...  ...   ...       ...\n",
       "003000   0     0    0     0  71063049\n",
       "001270   0     0    0     0  10369886\n",
       "001275   0     0    0     0   3000000\n",
       "026940   0     0    0     0  20000000\n",
       "238490   0     0    0     0  11312236\n",
       "\n",
       "[2422 rows x 5 columns]"
      ]
     },
     "execution_count": 22,
     "metadata": {},
     "output_type": "execute_result"
    }
   ],
   "source": [
    "df = stock.get_market_cap_by_ticker(\"20220832\")\n",
    "df "
   ]
  },
  {
   "cell_type": "code",
   "execution_count": 25,
   "metadata": {},
   "outputs": [
    {
     "data": {
      "text/plain": [
       "0"
      ]
     },
     "execution_count": 25,
     "metadata": {},
     "output_type": "execute_result"
    }
   ],
   "source": [
    "df['종가'].values[0]"
   ]
  },
  {
   "cell_type": "code",
   "execution_count": 27,
   "metadata": {},
   "outputs": [
    {
     "data": {
      "text/html": [
       "<div>\n",
       "<style scoped>\n",
       "    .dataframe tbody tr th:only-of-type {\n",
       "        vertical-align: middle;\n",
       "    }\n",
       "\n",
       "    .dataframe tbody tr th {\n",
       "        vertical-align: top;\n",
       "    }\n",
       "\n",
       "    .dataframe thead th {\n",
       "        text-align: right;\n",
       "    }\n",
       "</style>\n",
       "<table border=\"1\" class=\"dataframe\">\n",
       "  <thead>\n",
       "    <tr style=\"text-align: right;\">\n",
       "      <th></th>\n",
       "      <th>티커</th>\n",
       "      <th>종가</th>\n",
       "      <th>시가총액</th>\n",
       "      <th>거래량</th>\n",
       "      <th>거래대금</th>\n",
       "      <th>상장주식수</th>\n",
       "    </tr>\n",
       "  </thead>\n",
       "  <tbody>\n",
       "    <tr>\n",
       "      <th>0</th>\n",
       "      <td>060310</td>\n",
       "      <td>0</td>\n",
       "      <td>0</td>\n",
       "      <td>0</td>\n",
       "      <td>0</td>\n",
       "      <td>46271513</td>\n",
       "    </tr>\n",
       "    <tr>\n",
       "      <th>1</th>\n",
       "      <td>000220</td>\n",
       "      <td>0</td>\n",
       "      <td>0</td>\n",
       "      <td>0</td>\n",
       "      <td>0</td>\n",
       "      <td>17232351</td>\n",
       "    </tr>\n",
       "    <tr>\n",
       "      <th>2</th>\n",
       "      <td>000227</td>\n",
       "      <td>0</td>\n",
       "      <td>0</td>\n",
       "      <td>0</td>\n",
       "      <td>0</td>\n",
       "      <td>325560</td>\n",
       "    </tr>\n",
       "    <tr>\n",
       "      <th>3</th>\n",
       "      <td>388720</td>\n",
       "      <td>0</td>\n",
       "      <td>0</td>\n",
       "      <td>0</td>\n",
       "      <td>0</td>\n",
       "      <td>8580846</td>\n",
       "    </tr>\n",
       "    <tr>\n",
       "      <th>4</th>\n",
       "      <td>340930</td>\n",
       "      <td>0</td>\n",
       "      <td>0</td>\n",
       "      <td>0</td>\n",
       "      <td>0</td>\n",
       "      <td>10674744</td>\n",
       "    </tr>\n",
       "    <tr>\n",
       "      <th>...</th>\n",
       "      <td>...</td>\n",
       "      <td>...</td>\n",
       "      <td>...</td>\n",
       "      <td>...</td>\n",
       "      <td>...</td>\n",
       "      <td>...</td>\n",
       "    </tr>\n",
       "    <tr>\n",
       "      <th>2417</th>\n",
       "      <td>003000</td>\n",
       "      <td>0</td>\n",
       "      <td>0</td>\n",
       "      <td>0</td>\n",
       "      <td>0</td>\n",
       "      <td>71063049</td>\n",
       "    </tr>\n",
       "    <tr>\n",
       "      <th>2418</th>\n",
       "      <td>001270</td>\n",
       "      <td>0</td>\n",
       "      <td>0</td>\n",
       "      <td>0</td>\n",
       "      <td>0</td>\n",
       "      <td>10369886</td>\n",
       "    </tr>\n",
       "    <tr>\n",
       "      <th>2419</th>\n",
       "      <td>001275</td>\n",
       "      <td>0</td>\n",
       "      <td>0</td>\n",
       "      <td>0</td>\n",
       "      <td>0</td>\n",
       "      <td>3000000</td>\n",
       "    </tr>\n",
       "    <tr>\n",
       "      <th>2420</th>\n",
       "      <td>026940</td>\n",
       "      <td>0</td>\n",
       "      <td>0</td>\n",
       "      <td>0</td>\n",
       "      <td>0</td>\n",
       "      <td>20000000</td>\n",
       "    </tr>\n",
       "    <tr>\n",
       "      <th>2421</th>\n",
       "      <td>238490</td>\n",
       "      <td>0</td>\n",
       "      <td>0</td>\n",
       "      <td>0</td>\n",
       "      <td>0</td>\n",
       "      <td>11312236</td>\n",
       "    </tr>\n",
       "  </tbody>\n",
       "</table>\n",
       "<p>2422 rows × 6 columns</p>\n",
       "</div>"
      ],
      "text/plain": [
       "          티커  종가  시가총액  거래량  거래대금     상장주식수\n",
       "0     060310   0     0    0     0  46271513\n",
       "1     000220   0     0    0     0  17232351\n",
       "2     000227   0     0    0     0    325560\n",
       "3     388720   0     0    0     0   8580846\n",
       "4     340930   0     0    0     0  10674744\n",
       "...      ...  ..   ...  ...   ...       ...\n",
       "2417  003000   0     0    0     0  71063049\n",
       "2418  001270   0     0    0     0  10369886\n",
       "2419  001275   0     0    0     0   3000000\n",
       "2420  026940   0     0    0     0  20000000\n",
       "2421  238490   0     0    0     0  11312236\n",
       "\n",
       "[2422 rows x 6 columns]"
      ]
     },
     "execution_count": 27,
     "metadata": {},
     "output_type": "execute_result"
    }
   ],
   "source": [
    "df.reset_index()"
   ]
  },
  {
   "cell_type": "markdown",
   "metadata": {},
   "source": [
    "## ETL"
   ]
  },
  {
   "cell_type": "code",
   "execution_count": 35,
   "metadata": {},
   "outputs": [],
   "source": [
    "from tqdm import tqdm\n",
    "import easydict\n",
    "args = easydict.EasyDict()\n",
    "\n",
    "\n",
    "args.market_cap_path = '../data/market_cap/{year}_{month}.csv'"
   ]
  },
  {
   "cell_type": "code",
   "execution_count": 37,
   "metadata": {},
   "outputs": [],
   "source": [
    "years = [\"200\"+str(month) if len(str(month))== 1 else \"20\"+str(month) for month in range(0,24)]\n",
    "months = ['0'+str(month) if len(str(month))== 1 else str(month) for month in range(1,13) ]\n",
    "last_days = ['31', '30', '29', '28', '27', '26', '25']"
   ]
  },
  {
   "cell_type": "code",
   "execution_count": 40,
   "metadata": {},
   "outputs": [
    {
     "name": "stderr",
     "output_type": "stream",
     "text": [
      "  0%|          | 0/24 [00:00<?, ?it/s]"
     ]
    },
    {
     "name": "stdout",
     "output_type": "stream",
     "text": [
      "target_dt: 2000-01\n",
      "target_dt: 2000-02\n",
      "target_dt: 2000-03\n",
      "target_dt: 2000-04\n",
      "target_dt: 2000-05\n",
      "target_dt: 2000-06\n",
      "target_dt: 2000-07\n",
      "target_dt: 2000-08\n",
      "target_dt: 2000-09\n",
      "target_dt: 2000-10\n",
      "target_dt: 2000-11\n"
     ]
    },
    {
     "name": "stderr",
     "output_type": "stream",
     "text": [
      "  4%|▍         | 1/24 [00:30<11:40, 30.44s/it]"
     ]
    },
    {
     "name": "stdout",
     "output_type": "stream",
     "text": [
      "target_dt: 2000-12\n",
      "target_dt: 2001-01\n",
      "target_dt: 2001-02\n",
      "target_dt: 2001-03\n",
      "target_dt: 2001-04\n",
      "target_dt: 2001-05\n",
      "target_dt: 2001-06\n",
      "target_dt: 2001-07\n",
      "target_dt: 2001-08\n",
      "target_dt: 2001-09\n",
      "target_dt: 2001-10\n",
      "target_dt: 2001-11\n"
     ]
    },
    {
     "name": "stderr",
     "output_type": "stream",
     "text": [
      "  8%|▊         | 2/24 [00:59<10:45, 29.35s/it]"
     ]
    },
    {
     "name": "stdout",
     "output_type": "stream",
     "text": [
      "target_dt: 2001-12\n",
      "target_dt: 2002-01\n",
      "target_dt: 2002-02\n",
      "target_dt: 2002-03\n",
      "target_dt: 2002-04\n",
      "target_dt: 2002-05\n",
      "target_dt: 2002-06\n",
      "target_dt: 2002-07\n",
      "target_dt: 2002-08\n",
      "target_dt: 2002-09\n",
      "target_dt: 2002-10\n",
      "target_dt: 2002-11\n"
     ]
    },
    {
     "name": "stderr",
     "output_type": "stream",
     "text": [
      " 12%|█▎        | 3/24 [01:29<10:24, 29.74s/it]"
     ]
    },
    {
     "name": "stdout",
     "output_type": "stream",
     "text": [
      "target_dt: 2002-12\n",
      "target_dt: 2003-01\n",
      "target_dt: 2003-02\n",
      "target_dt: 2003-03\n",
      "target_dt: 2003-04\n",
      "target_dt: 2003-05\n",
      "target_dt: 2003-06\n",
      "target_dt: 2003-07\n",
      "target_dt: 2003-08\n",
      "target_dt: 2003-09\n",
      "target_dt: 2003-10\n",
      "target_dt: 2003-11\n"
     ]
    },
    {
     "name": "stderr",
     "output_type": "stream",
     "text": [
      " 17%|█▋        | 4/24 [01:59<09:56, 29.80s/it]"
     ]
    },
    {
     "name": "stdout",
     "output_type": "stream",
     "text": [
      "target_dt: 2003-12\n",
      "target_dt: 2004-01\n",
      "target_dt: 2004-02\n",
      "target_dt: 2004-03\n",
      "target_dt: 2004-04\n",
      "target_dt: 2004-05\n",
      "target_dt: 2004-06\n",
      "target_dt: 2004-07\n",
      "target_dt: 2004-08\n",
      "target_dt: 2004-09\n",
      "target_dt: 2004-10\n",
      "target_dt: 2004-11\n"
     ]
    },
    {
     "name": "stderr",
     "output_type": "stream",
     "text": [
      " 21%|██        | 5/24 [02:29<09:31, 30.06s/it]"
     ]
    },
    {
     "name": "stdout",
     "output_type": "stream",
     "text": [
      "target_dt: 2004-12\n",
      "target_dt: 2005-01\n",
      "target_dt: 2005-02\n",
      "target_dt: 2005-03\n",
      "target_dt: 2005-04\n",
      "target_dt: 2005-05\n",
      "target_dt: 2005-06\n",
      "target_dt: 2005-07\n",
      "target_dt: 2005-08\n",
      "target_dt: 2005-09\n",
      "target_dt: 2005-10\n",
      "target_dt: 2005-11\n"
     ]
    },
    {
     "name": "stderr",
     "output_type": "stream",
     "text": [
      " 25%|██▌       | 6/24 [03:01<09:09, 30.53s/it]"
     ]
    },
    {
     "name": "stdout",
     "output_type": "stream",
     "text": [
      "target_dt: 2005-12\n",
      "target_dt: 2006-01\n",
      "target_dt: 2006-02\n",
      "target_dt: 2006-03\n",
      "target_dt: 2006-04\n",
      "target_dt: 2006-05\n",
      "target_dt: 2006-06\n",
      "target_dt: 2006-07\n",
      "target_dt: 2006-08\n",
      "target_dt: 2006-09\n",
      "target_dt: 2006-10\n",
      "target_dt: 2006-11\n"
     ]
    },
    {
     "name": "stderr",
     "output_type": "stream",
     "text": [
      " 29%|██▉       | 7/24 [03:30<08:35, 30.32s/it]"
     ]
    },
    {
     "name": "stdout",
     "output_type": "stream",
     "text": [
      "target_dt: 2006-12\n",
      "target_dt: 2007-01\n",
      "target_dt: 2007-02\n",
      "target_dt: 2007-03\n",
      "target_dt: 2007-04\n",
      "target_dt: 2007-05\n",
      "target_dt: 2007-06\n",
      "target_dt: 2007-07\n",
      "target_dt: 2007-08\n",
      "target_dt: 2007-09\n",
      "target_dt: 2007-10\n",
      "target_dt: 2007-11\n"
     ]
    },
    {
     "name": "stderr",
     "output_type": "stream",
     "text": [
      " 33%|███▎      | 8/24 [06:30<20:43, 77.70s/it]"
     ]
    },
    {
     "name": "stdout",
     "output_type": "stream",
     "text": [
      "target_dt: 2007-12\n",
      "target_dt: 2008-01\n",
      "target_dt: 2008-02\n",
      "target_dt: 2008-03\n",
      "target_dt: 2008-04\n",
      "target_dt: 2008-05\n",
      "target_dt: 2008-06\n",
      "target_dt: 2008-07\n",
      "target_dt: 2008-08\n",
      "target_dt: 2008-09\n",
      "target_dt: 2008-10\n",
      "target_dt: 2008-11\n"
     ]
    },
    {
     "name": "stderr",
     "output_type": "stream",
     "text": [
      " 38%|███▊      | 9/24 [06:56<15:26, 61.79s/it]"
     ]
    },
    {
     "name": "stdout",
     "output_type": "stream",
     "text": [
      "target_dt: 2008-12\n",
      "target_dt: 2009-01\n",
      "target_dt: 2009-02\n",
      "target_dt: 2009-03\n",
      "target_dt: 2009-04\n",
      "target_dt: 2009-05\n",
      "target_dt: 2009-06\n",
      "target_dt: 2009-07\n",
      "target_dt: 2009-08\n",
      "target_dt: 2009-09\n",
      "target_dt: 2009-10\n",
      "target_dt: 2009-11\n"
     ]
    },
    {
     "name": "stderr",
     "output_type": "stream",
     "text": [
      " 42%|████▏     | 10/24 [07:22<11:48, 50.58s/it]"
     ]
    },
    {
     "name": "stdout",
     "output_type": "stream",
     "text": [
      "target_dt: 2009-12\n",
      "target_dt: 2010-01\n",
      "target_dt: 2010-02\n",
      "target_dt: 2010-03\n",
      "target_dt: 2010-04\n",
      "target_dt: 2010-05\n",
      "target_dt: 2010-06\n",
      "target_dt: 2010-07\n",
      "target_dt: 2010-08\n",
      "target_dt: 2010-09\n",
      "target_dt: 2010-10\n",
      "target_dt: 2010-11\n"
     ]
    },
    {
     "name": "stderr",
     "output_type": "stream",
     "text": [
      " 46%|████▌     | 11/24 [07:54<09:44, 44.98s/it]"
     ]
    },
    {
     "name": "stdout",
     "output_type": "stream",
     "text": [
      "target_dt: 2010-12\n",
      "target_dt: 2011-01\n",
      "target_dt: 2011-02\n",
      "target_dt: 2011-03\n",
      "target_dt: 2011-04\n",
      "target_dt: 2011-05\n",
      "target_dt: 2011-06\n",
      "target_dt: 2011-07\n",
      "target_dt: 2011-08\n",
      "target_dt: 2011-09\n",
      "target_dt: 2011-10\n",
      "target_dt: 2011-11\n"
     ]
    },
    {
     "name": "stderr",
     "output_type": "stream",
     "text": [
      " 50%|█████     | 12/24 [08:22<07:55, 39.64s/it]"
     ]
    },
    {
     "name": "stdout",
     "output_type": "stream",
     "text": [
      "target_dt: 2011-12\n",
      "target_dt: 2012-01\n",
      "target_dt: 2012-02\n",
      "target_dt: 2012-03\n",
      "target_dt: 2012-04\n",
      "target_dt: 2012-05\n",
      "target_dt: 2012-06\n",
      "target_dt: 2012-07\n",
      "target_dt: 2012-08\n",
      "target_dt: 2012-09\n",
      "target_dt: 2012-10\n",
      "target_dt: 2012-11\n"
     ]
    },
    {
     "name": "stderr",
     "output_type": "stream",
     "text": [
      " 54%|█████▍    | 13/24 [08:53<06:50, 37.28s/it]"
     ]
    },
    {
     "name": "stdout",
     "output_type": "stream",
     "text": [
      "target_dt: 2012-12\n",
      "target_dt: 2013-01\n",
      "target_dt: 2013-02\n",
      "target_dt: 2013-03\n",
      "target_dt: 2013-04\n",
      "target_dt: 2013-05\n",
      "target_dt: 2013-06\n",
      "target_dt: 2013-07\n",
      "target_dt: 2013-08\n",
      "target_dt: 2013-09\n",
      "target_dt: 2013-10\n",
      "target_dt: 2013-11\n"
     ]
    },
    {
     "name": "stderr",
     "output_type": "stream",
     "text": [
      " 58%|█████▊    | 14/24 [09:21<05:44, 34.44s/it]"
     ]
    },
    {
     "name": "stdout",
     "output_type": "stream",
     "text": [
      "target_dt: 2013-12\n",
      "target_dt: 2014-01\n",
      "target_dt: 2014-02\n",
      "target_dt: 2014-03\n",
      "target_dt: 2014-04\n",
      "target_dt: 2014-05\n",
      "target_dt: 2014-06\n",
      "target_dt: 2014-07\n",
      "target_dt: 2014-08\n",
      "target_dt: 2014-09\n",
      "target_dt: 2014-10\n",
      "target_dt: 2014-11\n"
     ]
    },
    {
     "name": "stderr",
     "output_type": "stream",
     "text": [
      " 62%|██████▎   | 15/24 [09:50<04:53, 32.57s/it]"
     ]
    },
    {
     "name": "stdout",
     "output_type": "stream",
     "text": [
      "target_dt: 2014-12\n",
      "target_dt: 2015-01\n",
      "target_dt: 2015-02\n",
      "target_dt: 2015-03\n",
      "target_dt: 2015-04\n",
      "target_dt: 2015-05\n",
      "target_dt: 2015-06\n",
      "target_dt: 2015-07\n",
      "target_dt: 2015-08\n",
      "target_dt: 2015-09\n",
      "target_dt: 2015-10\n",
      "target_dt: 2015-11\n"
     ]
    },
    {
     "name": "stderr",
     "output_type": "stream",
     "text": [
      " 67%|██████▋   | 16/24 [10:16<04:06, 30.81s/it]"
     ]
    },
    {
     "name": "stdout",
     "output_type": "stream",
     "text": [
      "target_dt: 2015-12\n",
      "target_dt: 2016-01\n",
      "target_dt: 2016-02\n",
      "target_dt: 2016-03\n",
      "target_dt: 2016-04\n",
      "target_dt: 2016-05\n",
      "target_dt: 2016-06\n",
      "target_dt: 2016-07\n",
      "target_dt: 2016-08\n",
      "target_dt: 2016-09\n",
      "target_dt: 2016-10\n",
      "target_dt: 2016-11\n"
     ]
    },
    {
     "name": "stderr",
     "output_type": "stream",
     "text": [
      " 71%|███████   | 17/24 [10:43<03:26, 29.53s/it]"
     ]
    },
    {
     "name": "stdout",
     "output_type": "stream",
     "text": [
      "target_dt: 2016-12\n",
      "target_dt: 2017-01\n",
      "target_dt: 2017-02\n",
      "target_dt: 2017-03\n",
      "target_dt: 2017-04\n",
      "target_dt: 2017-05\n",
      "target_dt: 2017-06\n",
      "target_dt: 2017-07\n",
      "target_dt: 2017-08\n",
      "target_dt: 2017-09\n",
      "target_dt: 2017-10\n",
      "target_dt: 2017-11\n"
     ]
    },
    {
     "name": "stderr",
     "output_type": "stream",
     "text": [
      " 75%|███████▌  | 18/24 [11:09<02:51, 28.54s/it]"
     ]
    },
    {
     "name": "stdout",
     "output_type": "stream",
     "text": [
      "target_dt: 2017-12\n",
      "target_dt: 2018-01\n",
      "target_dt: 2018-02\n",
      "target_dt: 2018-03\n",
      "target_dt: 2018-04\n",
      "target_dt: 2018-05\n",
      "target_dt: 2018-06\n",
      "target_dt: 2018-07\n",
      "target_dt: 2018-08\n",
      "target_dt: 2018-09\n",
      "target_dt: 2018-10\n",
      "target_dt: 2018-11\n"
     ]
    },
    {
     "name": "stderr",
     "output_type": "stream",
     "text": [
      " 79%|███████▉  | 19/24 [11:37<02:22, 28.41s/it]"
     ]
    },
    {
     "name": "stdout",
     "output_type": "stream",
     "text": [
      "target_dt: 2018-12\n",
      "target_dt: 2019-01\n",
      "target_dt: 2019-02\n",
      "target_dt: 2019-03\n",
      "target_dt: 2019-04\n",
      "target_dt: 2019-05\n",
      "target_dt: 2019-06\n",
      "target_dt: 2019-07\n",
      "target_dt: 2019-08\n",
      "target_dt: 2019-09\n",
      "target_dt: 2019-10\n",
      "target_dt: 2019-11\n"
     ]
    },
    {
     "name": "stderr",
     "output_type": "stream",
     "text": [
      " 83%|████████▎ | 20/24 [12:05<01:52, 28.09s/it]"
     ]
    },
    {
     "name": "stdout",
     "output_type": "stream",
     "text": [
      "target_dt: 2019-12\n",
      "target_dt: 2020-01\n",
      "target_dt: 2020-02\n",
      "target_dt: 2020-03\n",
      "target_dt: 2020-04\n",
      "target_dt: 2020-05\n",
      "target_dt: 2020-06\n",
      "target_dt: 2020-07\n",
      "target_dt: 2020-08\n",
      "target_dt: 2020-09\n",
      "target_dt: 2020-10\n",
      "target_dt: 2020-11\n"
     ]
    },
    {
     "name": "stderr",
     "output_type": "stream",
     "text": [
      " 88%|████████▊ | 21/24 [12:32<01:23, 27.96s/it]"
     ]
    },
    {
     "name": "stdout",
     "output_type": "stream",
     "text": [
      "target_dt: 2020-12\n",
      "target_dt: 2021-01\n",
      "target_dt: 2021-02\n",
      "target_dt: 2021-03\n",
      "target_dt: 2021-04\n",
      "target_dt: 2021-05\n",
      "target_dt: 2021-06\n",
      "target_dt: 2021-07\n",
      "target_dt: 2021-08\n",
      "target_dt: 2021-09\n",
      "target_dt: 2021-10\n",
      "target_dt: 2021-11\n"
     ]
    },
    {
     "name": "stderr",
     "output_type": "stream",
     "text": [
      " 92%|█████████▏| 22/24 [13:03<00:57, 28.87s/it]"
     ]
    },
    {
     "name": "stdout",
     "output_type": "stream",
     "text": [
      "target_dt: 2021-12\n",
      "target_dt: 2022-01\n",
      "target_dt: 2022-02\n",
      "target_dt: 2022-03\n",
      "target_dt: 2022-04\n",
      "target_dt: 2022-05\n",
      "target_dt: 2022-06\n",
      "target_dt: 2022-07\n",
      "target_dt: 2022-08\n",
      "target_dt: 2022-09\n",
      "target_dt: 2022-10\n",
      "target_dt: 2022-11\n"
     ]
    },
    {
     "name": "stderr",
     "output_type": "stream",
     "text": [
      " 96%|█████████▌| 23/24 [13:32<00:28, 28.94s/it]"
     ]
    },
    {
     "name": "stdout",
     "output_type": "stream",
     "text": [
      "target_dt: 2022-12\n",
      "target_dt: 2023-01\n",
      "target_dt: 2023-02\n",
      "target_dt: 2023-03\n",
      "target_dt: 2023-04\n",
      "target_dt: 2023-05\n",
      "target_dt: 2023-06\n",
      "target_dt: 2023-07\n"
     ]
    },
    {
     "name": "stderr",
     "output_type": "stream",
     "text": [
      "100%|██████████| 24/24 [14:27<00:00, 36.15s/it]\n"
     ]
    }
   ],
   "source": [
    "for year in tqdm(years):\n",
    "    for month in months:\n",
    "        for last_day in last_days:\n",
    "            target_dt = year+month+last_day\n",
    "            _df = stock.get_market_cap_by_ticker(target_dt)\n",
    "            if _df['종가'].values[0] == 0:\n",
    "                continue\n",
    "            \n",
    "            print(f'target_dt: {year}-{month}')\n",
    "            _df = _df.reset_index()\n",
    "            _df['target_dt'] = target_dt\n",
    "            _df.rename(columns={\n",
    "                '티커':'stock_code'\n",
    "            }, inplace=True)\n",
    "            save_path = args.market_cap_path.format(year=year, month=month)\n",
    "            _df.to_csv(save_path, header=True, index=False, encoding='utf-8')\n",
    "            break # 달마다 한번만..."
   ]
  },
  {
   "cell_type": "code",
   "execution_count": null,
   "metadata": {},
   "outputs": [],
   "source": []
  }
 ],
 "metadata": {
  "kernelspec": {
   "display_name": "stock-venv",
   "language": "python",
   "name": "python3"
  },
  "language_info": {
   "codemirror_mode": {
    "name": "ipython",
    "version": 3
   },
   "file_extension": ".py",
   "mimetype": "text/x-python",
   "name": "python",
   "nbconvert_exporter": "python",
   "pygments_lexer": "ipython3",
   "version": "3.11.3"
  },
  "orig_nbformat": 4
 },
 "nbformat": 4,
 "nbformat_minor": 2
}
