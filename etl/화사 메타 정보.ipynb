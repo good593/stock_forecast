{
 "cells": [
  {
   "cell_type": "markdown",
   "metadata": {},
   "source": [
    "# [주식 산업 분류](https://purplechip.tistory.com/32)\n",
    "> 한국에서 사용되는 산업 분류 기준이 4가지인데 그것들이 바로 WICS, FICS, GICS, KRX지수이다.\n",
    "\n",
    "체감이 쉽게 되는 예시를 하나 들어보면 '삼성전자' 에 대한 각 산업분류는 다음과 같다.\n",
    "- WICS : 반도체와반도체장비\n",
    "- FICS : 휴대폰 및 관련부품\n",
    "- GICS : 하드웨어및IT장비\n",
    "- KRX지수 : 통신 및 방송 장비 제조업 (아마도..)\n",
    "\n",
    "개인적인 생각으로는 WICS가 가장 타당한 것으로 느껴진다. 그럼 각 산업분류 기준에 대해 알아보자."
   ]
  },
  {
   "cell_type": "code",
   "execution_count": 9,
   "metadata": {},
   "outputs": [],
   "source": [
    "import pandas as pd\n",
    "import numpy as np\n",
    "import random\n",
    "import os\n",
    "\n",
    "from tqdm import tqdm\n",
    "\n",
    "import warnings\n",
    "warnings.filterwarnings(\"ignore\")"
   ]
  },
  {
   "cell_type": "markdown",
   "metadata": {},
   "source": [
    "# KRX"
   ]
  },
  {
   "cell_type": "code",
   "execution_count": 2,
   "metadata": {},
   "outputs": [],
   "source": [
    "import os \n",
    "import dart_fss as dart "
   ]
  },
  {
   "cell_type": "code",
   "execution_count": 4,
   "metadata": {},
   "outputs": [
    {
     "name": "stdout",
     "output_type": "stream",
     "text": [
      "공시된 기업 전체 수: 102356\n"
     ]
    }
   ],
   "source": [
    "dart.set_api_key(api_key=os.environ['DART_PSS_API_KEY'])\n",
    "\n",
    "# DART 에 공시된 회사 리스트 불러오기\n",
    "corp_list = dart.get_corp_list()\n",
    "\n",
    "print(f'공시된 기업 전체 수: {len(corp_list)}')"
   ]
  },
  {
   "cell_type": "code",
   "execution_count": 7,
   "metadata": {},
   "outputs": [],
   "source": [
    "# 코스피 기업정보들\n",
    "stock_corps = [] \n",
    "\n",
    "for corp in corp_list:\n",
    "    try:\n",
    "        if corp.corp_cls == \"Y\" or corp.corp_cls == \"K\": # 코스피/코스탁 기업정보 KOSPI\n",
    "            kospi_corp = {\n",
    "                \"corp_code\": corp.corp_code if corp.corp_code else None,\n",
    "                \"corp_name\": corp.corp_name if corp.corp_name else None,\n",
    "                \"stock_code\": corp.stock_code if corp.stock_code else None, \n",
    "                \"corp_cls\": corp.corp_cls if corp.corp_cls else None,\n",
    "                \"corp_cls_nm\": \"kospi\" if corp.corp_cls == \"Y\" else \"kosdaq\",\n",
    "                \"sector\": corp.sector if corp.sector else None,\n",
    "                \"product\": corp.product if corp.product else None\n",
    "            }\n",
    "\n",
    "            stock_corps.append(kospi_corp)\n",
    "\n",
    "    except:\n",
    "        pass"
   ]
  },
  {
   "cell_type": "code",
   "execution_count": 13,
   "metadata": {},
   "outputs": [
    {
     "name": "stdout",
     "output_type": "stream",
     "text": [
      "(2494, 7)\n"
     ]
    },
    {
     "data": {
      "text/html": [
       "<div>\n",
       "<style scoped>\n",
       "    .dataframe tbody tr th:only-of-type {\n",
       "        vertical-align: middle;\n",
       "    }\n",
       "\n",
       "    .dataframe tbody tr th {\n",
       "        vertical-align: top;\n",
       "    }\n",
       "\n",
       "    .dataframe thead th {\n",
       "        text-align: right;\n",
       "    }\n",
       "</style>\n",
       "<table border=\"1\" class=\"dataframe\">\n",
       "  <thead>\n",
       "    <tr style=\"text-align: right;\">\n",
       "      <th></th>\n",
       "      <th>corp_code</th>\n",
       "      <th>corp_name</th>\n",
       "      <th>stock_code</th>\n",
       "      <th>corp_cls</th>\n",
       "      <th>corp_cls_nm</th>\n",
       "      <th>sector</th>\n",
       "      <th>product</th>\n",
       "    </tr>\n",
       "  </thead>\n",
       "  <tbody>\n",
       "    <tr>\n",
       "      <th>0</th>\n",
       "      <td>00956028</td>\n",
       "      <td>엑세스바이오</td>\n",
       "      <td>950130</td>\n",
       "      <td>K</td>\n",
       "      <td>kosdaq</td>\n",
       "      <td>의료용품 및 기타 의약 관련제품 제조업</td>\n",
       "      <td>말라리아 진단키트(RDT), HIV 진단키트(RDT)</td>\n",
       "    </tr>\n",
       "    <tr>\n",
       "      <th>1</th>\n",
       "      <td>00783246</td>\n",
       "      <td>글로벌에스엠</td>\n",
       "      <td>900070</td>\n",
       "      <td>K</td>\n",
       "      <td>kosdaq</td>\n",
       "      <td>기타 금융업</td>\n",
       "      <td>자회사 제품 : IT기기용 정밀 화스너부품(스크류, 샤프트, 스프링)</td>\n",
       "    </tr>\n",
       "    <tr>\n",
       "      <th>2</th>\n",
       "      <td>01170962</td>\n",
       "      <td>GRT</td>\n",
       "      <td>900290</td>\n",
       "      <td>K</td>\n",
       "      <td>kosdaq</td>\n",
       "      <td>기타 금융업</td>\n",
       "      <td>광학필름, 포장필름</td>\n",
       "    </tr>\n",
       "    <tr>\n",
       "      <th>3</th>\n",
       "      <td>00600013</td>\n",
       "      <td>맵스리얼티1</td>\n",
       "      <td>094800</td>\n",
       "      <td>Y</td>\n",
       "      <td>kospi</td>\n",
       "      <td>신탁업 및 집합투자업</td>\n",
       "      <td>None</td>\n",
       "    </tr>\n",
       "    <tr>\n",
       "      <th>4</th>\n",
       "      <td>01139266</td>\n",
       "      <td>로스웰</td>\n",
       "      <td>900260</td>\n",
       "      <td>K</td>\n",
       "      <td>kosdaq</td>\n",
       "      <td>기타 금융업</td>\n",
       "      <td>CAN Control Gateway, CAN기능모듈, BCM 차체제어모듈</td>\n",
       "    </tr>\n",
       "  </tbody>\n",
       "</table>\n",
       "</div>"
      ],
      "text/plain": [
       "  corp_code corp_name stock_code corp_cls corp_cls_nm                 sector  \\\n",
       "0  00956028    엑세스바이오     950130        K      kosdaq  의료용품 및 기타 의약 관련제품 제조업   \n",
       "1  00783246    글로벌에스엠     900070        K      kosdaq                 기타 금융업   \n",
       "2  01170962       GRT     900290        K      kosdaq                 기타 금융업   \n",
       "3  00600013    맵스리얼티1     094800        Y       kospi            신탁업 및 집합투자업   \n",
       "4  01139266       로스웰     900260        K      kosdaq                 기타 금융업   \n",
       "\n",
       "                                    product  \n",
       "0             말라리아 진단키트(RDT), HIV 진단키트(RDT)  \n",
       "1    자회사 제품 : IT기기용 정밀 화스너부품(스크류, 샤프트, 스프링)  \n",
       "2                                광학필름, 포장필름  \n",
       "3                                      None  \n",
       "4  CAN Control Gateway, CAN기능모듈, BCM 차체제어모듈  "
      ]
     },
     "execution_count": 13,
     "metadata": {},
     "output_type": "execute_result"
    }
   ],
   "source": [
    "df = pd.DataFrame(stock_corps)\n",
    "\n",
    "print(df.shape)\n",
    "df.head()"
   ]
  },
  {
   "cell_type": "markdown",
   "metadata": {},
   "source": [
    "# WICS"
   ]
  },
  {
   "cell_type": "code",
   "execution_count": 10,
   "metadata": {},
   "outputs": [],
   "source": [
    "import requests\n",
    "from datetime import datetime \n",
    "from pandas import DataFrame\n",
    "\n",
    "from bs4 import BeautifulSoup as bs"
   ]
  },
  {
   "cell_type": "markdown",
   "metadata": {},
   "source": [
    "## WICS 소분류 "
   ]
  },
  {
   "cell_type": "code",
   "execution_count": 11,
   "metadata": {},
   "outputs": [],
   "source": [
    "def add_industry_wics_ss_nm(stock_code):\n",
    "    url = 'https://navercomp.wisereport.co.kr/v2/company/c1010001.aspx?cmp_cd={stock_code}'.format(stock_code=stock_code)\n",
    "    headers = {\n",
    "        'User-Agent':'Mozilla/5.0 (Macintosh; Intel Mac OS X 10_15_7) AppleWebKit/537.36 (KHTML, like Gecko) Chrome/114.0.0.0 Safari/537.36',\n",
    "        'Referer':'https://finance.naver.com/item/coinfo.naver?code={stock_code}'.format(stock_code=stock_code)\n",
    "    }\n",
    "    response = requests.get(url, headers=headers)\n",
    "\n",
    "    soup = bs(response.text, \"html.parser\")\n",
    "    for node in soup.select(\".line-left\"):\n",
    "        if 'WICS' in node.get_text():\n",
    "            return node.get_text().replace('WICS : ', '')"
   ]
  },
  {
   "cell_type": "code",
   "execution_count": 14,
   "metadata": {},
   "outputs": [
    {
     "data": {
      "text/plain": [
       "(2494, 8)"
      ]
     },
     "execution_count": 14,
     "metadata": {},
     "output_type": "execute_result"
    }
   ],
   "source": [
    "df['industry_wics_ss_nm'] = df['stock_code'].map(add_industry_wics_ss_nm)\n",
    "\n",
    "df.shape"
   ]
  },
  {
   "cell_type": "code",
   "execution_count": 27,
   "metadata": {},
   "outputs": [],
   "source": [
    "wics_ss_dic = {\n",
    "    # 에너지\n",
    "    '에너지장비및서비스': 101010,\n",
    "    '석유와가스': 101020,\n",
    "    # 소재\n",
    "    '화학': 151010,\n",
    "    '포장재': 151030,\n",
    "    '비철금속': 151040,\n",
    "    '철강': 151050,\n",
    "    '종이와목재': 151060,\n",
    "    # 자본재\n",
    "    '우주항공과국방': 201010,\n",
    "    '건축제품': 201020,\n",
    "    '건축자재': 201025,\n",
    "    '건설': 201030,\n",
    "    '가구': 201035,\n",
    "    '전기장비': 201040,\n",
    "    '복합기업': 201050,\n",
    "    '기계': 201060,\n",
    "    '조선': 201065,\n",
    "    '무역회사와판매업체': 201070,\n",
    "    # 상업서비스와공급품\n",
    "    '상업서비스와공급품': 202010,\n",
    "    # 운송\n",
    "    '항공화물운송과물류': 203010,\n",
    "    '항공사': 203020,\n",
    "    '해운사': 203030,\n",
    "    '도로와철도운송': 203040,\n",
    "    '운송인프라': 203050,\n",
    "    # 자동차와부품\n",
    "    '자동차부품': 251010,\n",
    "    '자동차': 251020,\n",
    "    # 내구소비재와의류\n",
    "    '가정용기기와용품': 252040,\n",
    "    '레저용장비와제품': 252050,\n",
    "    '섬유,의류,신발,호화품': 252060,\n",
    "    '화장품': 252065,\n",
    "    '문구류': 252070,\n",
    "    # 호텔,레스토랑,레저 등\n",
    "    '호텔,레스토랑,레저': 253010,\n",
    "    '다각화된소비자서비스': 253020,\n",
    "    # 소매(유통)\n",
    "    '판매업체': 255010,\n",
    "    '인터넷과카탈로그소매': 255020,\n",
    "    '백화점과일반상점': 255030,\n",
    "    '전문소매': 255040,\n",
    "    # 교육서비스\n",
    "    '교육서비스': 256010,\n",
    "    # 식품과기본식료품소매\n",
    "    '식품과기본식료품소매': 301010,\n",
    "    # 식품,음료,담배\n",
    "    '음료': 302010,\n",
    "    '식품': 302020,\n",
    "    '담배': 302030,\n",
    "    # 가정용품과개인용품\n",
    "    '가정용품': 303010,\n",
    "    # 건강관리장비와서비스\n",
    "    '건강관리장비와용품': 351010,\n",
    "    '건강관리업체및서비스': 351020,\n",
    "    '건강관리기술': 351030,\n",
    "    # 제약과생물공학\n",
    "    '생물공학': 352010,\n",
    "    '제약': 352020,\n",
    "    '생명과학도구및서비스': 352030,\n",
    "    # 은행\n",
    "    '은행': 401010,\n",
    "    # 증권\n",
    "    '증권': 402010,\n",
    "    # 다각화된금융\n",
    "    '창업투자': 403020,\n",
    "    '카드': 403030,\n",
    "    '기타금융': 403040,\n",
    "    # 보험\n",
    "    '손해보험': 404010,\n",
    "    '생명보험': 404020,\n",
    "    # 부동산\n",
    "    '부동산': 405020,\n",
    "    # 소프트웨어와서비스\n",
    "    'IT서비스': 451020,\n",
    "    '소프트웨어': 451030,\n",
    "    # 기술하드웨어와장비\n",
    "    '통신장비': 452010,\n",
    "    '핸드셋': 452015,\n",
    "    '컴퓨터와주변기기': 452020,\n",
    "    '전자장비와기기': 452030,\n",
    "    '사무용전자제품': 452040,\n",
    "    # 반도체와반도체장비\n",
    "    '반도체와반도체장비': 453010,\n",
    "    # 전자와 전기제품\n",
    "    '전자제품': 453510,\n",
    "    '전기제품': 453520,\n",
    "    # 디스플레이\n",
    "    '디스플레이패널': 454010,\n",
    "    '디스플레이장비및부품': 454020,\n",
    "    # 전기통신서비스\n",
    "    '다각화된통신서비스': 501010,\n",
    "    '무선통신서비스': 501020,\n",
    "    # 미디어와엔터테인먼트\n",
    "    '광고': 502010,\n",
    "    '방송과엔터테인먼트': 502020,\n",
    "    '출판': 502030,\n",
    "    '게임엔터테인먼트': 502040,\n",
    "    '양방향미디어와서비스': 502050,\n",
    "    # 유틸리티\n",
    "    '전기유틸리티': 551010,\n",
    "    '가스유틸리티': 551020,\n",
    "    '복합유틸리티': 551030,\n",
    "    '독립전력생산및에너지거래': 551050\n",
    "    \n",
    "}\n",
    "\n",
    "def get_wics_ss_dic(wics_ss_nm):\n",
    "    try:\n",
    "        return wics_ss_dic[wics_ss_nm]\n",
    "    except:\n",
    "        return 0"
   ]
  },
  {
   "cell_type": "code",
   "execution_count": 28,
   "metadata": {},
   "outputs": [
    {
     "data": {
      "text/plain": [
       "corp_code               0\n",
       "corp_name               0\n",
       "stock_code              0\n",
       "corp_cls                0\n",
       "corp_cls_nm             0\n",
       "sector                  0\n",
       "product                14\n",
       "industry_wics_ss_nm     0\n",
       "industry_wics_ss_cd     0\n",
       "dtype: int64"
      ]
     },
     "execution_count": 28,
     "metadata": {},
     "output_type": "execute_result"
    }
   ],
   "source": [
    "df['industry_wics_ss_cd'] = df['industry_wics_ss_nm'].map(get_wics_ss_dic)\n",
    "\n",
    "df.isnull().sum()"
   ]
  },
  {
   "cell_type": "code",
   "execution_count": 29,
   "metadata": {},
   "outputs": [
    {
     "data": {
      "text/html": [
       "<div>\n",
       "<style scoped>\n",
       "    .dataframe tbody tr th:only-of-type {\n",
       "        vertical-align: middle;\n",
       "    }\n",
       "\n",
       "    .dataframe tbody tr th {\n",
       "        vertical-align: top;\n",
       "    }\n",
       "\n",
       "    .dataframe thead th {\n",
       "        text-align: right;\n",
       "    }\n",
       "</style>\n",
       "<table border=\"1\" class=\"dataframe\">\n",
       "  <thead>\n",
       "    <tr style=\"text-align: right;\">\n",
       "      <th></th>\n",
       "      <th>corp_code</th>\n",
       "      <th>corp_name</th>\n",
       "      <th>stock_code</th>\n",
       "      <th>corp_cls</th>\n",
       "      <th>corp_cls_nm</th>\n",
       "      <th>sector</th>\n",
       "      <th>product</th>\n",
       "      <th>industry_wics_ss_nm</th>\n",
       "      <th>industry_wics_ss_cd</th>\n",
       "    </tr>\n",
       "  </thead>\n",
       "  <tbody>\n",
       "  </tbody>\n",
       "</table>\n",
       "</div>"
      ],
      "text/plain": [
       "Empty DataFrame\n",
       "Columns: [corp_code, corp_name, stock_code, corp_cls, corp_cls_nm, sector, product, industry_wics_ss_nm, industry_wics_ss_cd]\n",
       "Index: []"
      ]
     },
     "execution_count": 29,
     "metadata": {},
     "output_type": "execute_result"
    }
   ],
   "source": [
    "c= df['industry_wics_ss_cd'].isnull()\n",
    "\n",
    "df.loc[c]"
   ]
  },
  {
   "cell_type": "markdown",
   "metadata": {},
   "source": [
    "## WICS 중분류 "
   ]
  },
  {
   "cell_type": "code",
   "execution_count": 33,
   "metadata": {},
   "outputs": [],
   "source": [
    "wics_mc_dict = {\n",
    "    1010:'에너지',\n",
    "    1510:'소재',\n",
    "    2010:'자본재',\n",
    "    2020:'상업서비스와공급품',\n",
    "    2030:'운송',\n",
    "    2510:'자동차와부품',\n",
    "    2520:'내구소비재와의류',\n",
    "    2530:'호텔,레스토랑,레저 등',\n",
    "    2550:'소매(유통)',\n",
    "    2560:'교육서비스',\n",
    "    3010:'식품과기본식료품소매',\n",
    "    3020:'식품,음료,담배',\n",
    "    3030:'가정용품과개인용품',\n",
    "    3510:'건강관리장비와서비스',\n",
    "    3520:'제약과생물공학',\n",
    "    4010:'은행',\n",
    "    4020:'증권',\n",
    "    4030:'다각화된금융',\n",
    "    4040:'보험',\n",
    "    4050:'부동산',\n",
    "    4510:'소프트웨어와서비스',\n",
    "    4520:'기술하드웨어와장비',\n",
    "    4530:'반도체와반도체장비',\n",
    "    4535:'전자와 전기제품',\n",
    "    4540:'디스플레이',\n",
    "    5010:'전기통신서비스',\n",
    "    5020:'미디어와엔터테인먼트',\n",
    "    5510:'유틸리티'}\n",
    "    \n",
    "def get_wics_mc_dic(wics_mc_cd):\n",
    "    try:\n",
    "        return wics_mc_dict[wics_mc_cd]\n",
    "    except:\n",
    "        return None"
   ]
  },
  {
   "cell_type": "code",
   "execution_count": 34,
   "metadata": {},
   "outputs": [
    {
     "name": "stdout",
     "output_type": "stream",
     "text": [
      "corp_code               0\n",
      "corp_name               0\n",
      "stock_code              0\n",
      "corp_cls                0\n",
      "corp_cls_nm             0\n",
      "sector                  0\n",
      "product                14\n",
      "industry_wics_ss_nm     0\n",
      "industry_wics_ss_cd     0\n",
      "industry_wics_ms_cd     0\n",
      "industry_wics_ms_nm     3\n",
      "dtype: int64\n"
     ]
    },
    {
     "data": {
      "text/html": [
       "<div>\n",
       "<style scoped>\n",
       "    .dataframe tbody tr th:only-of-type {\n",
       "        vertical-align: middle;\n",
       "    }\n",
       "\n",
       "    .dataframe tbody tr th {\n",
       "        vertical-align: top;\n",
       "    }\n",
       "\n",
       "    .dataframe thead th {\n",
       "        text-align: right;\n",
       "    }\n",
       "</style>\n",
       "<table border=\"1\" class=\"dataframe\">\n",
       "  <thead>\n",
       "    <tr style=\"text-align: right;\">\n",
       "      <th></th>\n",
       "      <th>corp_code</th>\n",
       "      <th>corp_name</th>\n",
       "      <th>stock_code</th>\n",
       "      <th>corp_cls</th>\n",
       "      <th>corp_cls_nm</th>\n",
       "      <th>sector</th>\n",
       "      <th>product</th>\n",
       "      <th>industry_wics_ss_nm</th>\n",
       "      <th>industry_wics_ss_cd</th>\n",
       "      <th>industry_wics_ms_cd</th>\n",
       "      <th>industry_wics_ms_nm</th>\n",
       "    </tr>\n",
       "  </thead>\n",
       "  <tbody>\n",
       "    <tr>\n",
       "      <th>0</th>\n",
       "      <td>00956028</td>\n",
       "      <td>엑세스바이오</td>\n",
       "      <td>950130</td>\n",
       "      <td>K</td>\n",
       "      <td>kosdaq</td>\n",
       "      <td>의료용품 및 기타 의약 관련제품 제조업</td>\n",
       "      <td>말라리아 진단키트(RDT), HIV 진단키트(RDT)</td>\n",
       "      <td>생명과학도구및서비스</td>\n",
       "      <td>352030</td>\n",
       "      <td>3520</td>\n",
       "      <td>제약과생물공학</td>\n",
       "    </tr>\n",
       "    <tr>\n",
       "      <th>1</th>\n",
       "      <td>00783246</td>\n",
       "      <td>글로벌에스엠</td>\n",
       "      <td>900070</td>\n",
       "      <td>K</td>\n",
       "      <td>kosdaq</td>\n",
       "      <td>기타 금융업</td>\n",
       "      <td>자회사 제품 : IT기기용 정밀 화스너부품(스크류, 샤프트, 스프링)</td>\n",
       "      <td>자동차부품</td>\n",
       "      <td>251010</td>\n",
       "      <td>2510</td>\n",
       "      <td>자동차와부품</td>\n",
       "    </tr>\n",
       "    <tr>\n",
       "      <th>2</th>\n",
       "      <td>01170962</td>\n",
       "      <td>GRT</td>\n",
       "      <td>900290</td>\n",
       "      <td>K</td>\n",
       "      <td>kosdaq</td>\n",
       "      <td>기타 금융업</td>\n",
       "      <td>광학필름, 포장필름</td>\n",
       "      <td>화학</td>\n",
       "      <td>151010</td>\n",
       "      <td>1510</td>\n",
       "      <td>소재</td>\n",
       "    </tr>\n",
       "    <tr>\n",
       "      <th>3</th>\n",
       "      <td>00600013</td>\n",
       "      <td>맵스리얼티1</td>\n",
       "      <td>094800</td>\n",
       "      <td>Y</td>\n",
       "      <td>kospi</td>\n",
       "      <td>신탁업 및 집합투자업</td>\n",
       "      <td>None</td>\n",
       "      <td>미분류</td>\n",
       "      <td>0</td>\n",
       "      <td>0</td>\n",
       "      <td>None</td>\n",
       "    </tr>\n",
       "    <tr>\n",
       "      <th>4</th>\n",
       "      <td>01139266</td>\n",
       "      <td>로스웰</td>\n",
       "      <td>900260</td>\n",
       "      <td>K</td>\n",
       "      <td>kosdaq</td>\n",
       "      <td>기타 금융업</td>\n",
       "      <td>CAN Control Gateway, CAN기능모듈, BCM 차체제어모듈</td>\n",
       "      <td>자동차부품</td>\n",
       "      <td>251010</td>\n",
       "      <td>2510</td>\n",
       "      <td>자동차와부품</td>\n",
       "    </tr>\n",
       "  </tbody>\n",
       "</table>\n",
       "</div>"
      ],
      "text/plain": [
       "  corp_code corp_name stock_code corp_cls corp_cls_nm                 sector  \\\n",
       "0  00956028    엑세스바이오     950130        K      kosdaq  의료용품 및 기타 의약 관련제품 제조업   \n",
       "1  00783246    글로벌에스엠     900070        K      kosdaq                 기타 금융업   \n",
       "2  01170962       GRT     900290        K      kosdaq                 기타 금융업   \n",
       "3  00600013    맵스리얼티1     094800        Y       kospi            신탁업 및 집합투자업   \n",
       "4  01139266       로스웰     900260        K      kosdaq                 기타 금융업   \n",
       "\n",
       "                                    product industry_wics_ss_nm  \\\n",
       "0             말라리아 진단키트(RDT), HIV 진단키트(RDT)          생명과학도구및서비스   \n",
       "1    자회사 제품 : IT기기용 정밀 화스너부품(스크류, 샤프트, 스프링)               자동차부품   \n",
       "2                                광학필름, 포장필름                  화학   \n",
       "3                                      None                 미분류   \n",
       "4  CAN Control Gateway, CAN기능모듈, BCM 차체제어모듈               자동차부품   \n",
       "\n",
       "   industry_wics_ss_cd  industry_wics_ms_cd industry_wics_ms_nm  \n",
       "0               352030                 3520             제약과생물공학  \n",
       "1               251010                 2510              자동차와부품  \n",
       "2               151010                 1510                  소재  \n",
       "3                    0                    0                None  \n",
       "4               251010                 2510              자동차와부품  "
      ]
     },
     "execution_count": 34,
     "metadata": {},
     "output_type": "execute_result"
    }
   ],
   "source": [
    "df['industry_wics_ms_cd'] = df['industry_wics_ss_cd'].map(lambda x: int(str(x)[:4]) if x > 0 else x)\n",
    "df['industry_wics_ms_nm'] = df['industry_wics_ms_cd'].map(get_wics_mc_dic)\n",
    "\n",
    "print(df.isnull().sum())\n",
    "df.head()"
   ]
  },
  {
   "cell_type": "markdown",
   "metadata": {},
   "source": [
    "## WICS 대분류 "
   ]
  },
  {
   "cell_type": "code",
   "execution_count": 35,
   "metadata": {},
   "outputs": [],
   "source": [
    "wics_lc_dict = {\n",
    "    10:'에너지', \n",
    "    15:'소재', \n",
    "    20:'산업재', \n",
    "    25:'경기관련소비재', \n",
    "    30:'필수소비재', \n",
    "    35:'건강관리',\n",
    "    40:'금융', \n",
    "    45:'IT', \n",
    "    50:'커뮤니케이션서비스', \n",
    "    55:'유틸리티'}\n",
    "\n",
    "def get_wics_lc_dict(wics_lc_cd):\n",
    "    try:\n",
    "        return wics_lc_dict[wics_lc_cd]\n",
    "    except:\n",
    "        return None"
   ]
  },
  {
   "cell_type": "code",
   "execution_count": 36,
   "metadata": {},
   "outputs": [
    {
     "name": "stdout",
     "output_type": "stream",
     "text": [
      "corp_code               0\n",
      "corp_name               0\n",
      "stock_code              0\n",
      "corp_cls                0\n",
      "corp_cls_nm             0\n",
      "sector                  0\n",
      "product                14\n",
      "industry_wics_ss_nm     0\n",
      "industry_wics_ss_cd     0\n",
      "industry_wics_ms_cd     0\n",
      "industry_wics_ms_nm     3\n",
      "industry_wics_ls_cd     0\n",
      "industry_wics_ls_nm     3\n",
      "dtype: int64\n"
     ]
    },
    {
     "data": {
      "text/html": [
       "<div>\n",
       "<style scoped>\n",
       "    .dataframe tbody tr th:only-of-type {\n",
       "        vertical-align: middle;\n",
       "    }\n",
       "\n",
       "    .dataframe tbody tr th {\n",
       "        vertical-align: top;\n",
       "    }\n",
       "\n",
       "    .dataframe thead th {\n",
       "        text-align: right;\n",
       "    }\n",
       "</style>\n",
       "<table border=\"1\" class=\"dataframe\">\n",
       "  <thead>\n",
       "    <tr style=\"text-align: right;\">\n",
       "      <th></th>\n",
       "      <th>corp_code</th>\n",
       "      <th>corp_name</th>\n",
       "      <th>stock_code</th>\n",
       "      <th>corp_cls</th>\n",
       "      <th>corp_cls_nm</th>\n",
       "      <th>sector</th>\n",
       "      <th>product</th>\n",
       "      <th>industry_wics_ss_nm</th>\n",
       "      <th>industry_wics_ss_cd</th>\n",
       "      <th>industry_wics_ms_cd</th>\n",
       "      <th>industry_wics_ms_nm</th>\n",
       "      <th>industry_wics_ls_cd</th>\n",
       "      <th>industry_wics_ls_nm</th>\n",
       "    </tr>\n",
       "  </thead>\n",
       "  <tbody>\n",
       "    <tr>\n",
       "      <th>0</th>\n",
       "      <td>00956028</td>\n",
       "      <td>엑세스바이오</td>\n",
       "      <td>950130</td>\n",
       "      <td>K</td>\n",
       "      <td>kosdaq</td>\n",
       "      <td>의료용품 및 기타 의약 관련제품 제조업</td>\n",
       "      <td>말라리아 진단키트(RDT), HIV 진단키트(RDT)</td>\n",
       "      <td>생명과학도구및서비스</td>\n",
       "      <td>352030</td>\n",
       "      <td>3520</td>\n",
       "      <td>제약과생물공학</td>\n",
       "      <td>35</td>\n",
       "      <td>건강관리</td>\n",
       "    </tr>\n",
       "    <tr>\n",
       "      <th>1</th>\n",
       "      <td>00783246</td>\n",
       "      <td>글로벌에스엠</td>\n",
       "      <td>900070</td>\n",
       "      <td>K</td>\n",
       "      <td>kosdaq</td>\n",
       "      <td>기타 금융업</td>\n",
       "      <td>자회사 제품 : IT기기용 정밀 화스너부품(스크류, 샤프트, 스프링)</td>\n",
       "      <td>자동차부품</td>\n",
       "      <td>251010</td>\n",
       "      <td>2510</td>\n",
       "      <td>자동차와부품</td>\n",
       "      <td>25</td>\n",
       "      <td>경기관련소비재</td>\n",
       "    </tr>\n",
       "    <tr>\n",
       "      <th>2</th>\n",
       "      <td>01170962</td>\n",
       "      <td>GRT</td>\n",
       "      <td>900290</td>\n",
       "      <td>K</td>\n",
       "      <td>kosdaq</td>\n",
       "      <td>기타 금융업</td>\n",
       "      <td>광학필름, 포장필름</td>\n",
       "      <td>화학</td>\n",
       "      <td>151010</td>\n",
       "      <td>1510</td>\n",
       "      <td>소재</td>\n",
       "      <td>15</td>\n",
       "      <td>소재</td>\n",
       "    </tr>\n",
       "    <tr>\n",
       "      <th>3</th>\n",
       "      <td>00600013</td>\n",
       "      <td>맵스리얼티1</td>\n",
       "      <td>094800</td>\n",
       "      <td>Y</td>\n",
       "      <td>kospi</td>\n",
       "      <td>신탁업 및 집합투자업</td>\n",
       "      <td>None</td>\n",
       "      <td>미분류</td>\n",
       "      <td>0</td>\n",
       "      <td>0</td>\n",
       "      <td>None</td>\n",
       "      <td>0</td>\n",
       "      <td>None</td>\n",
       "    </tr>\n",
       "    <tr>\n",
       "      <th>4</th>\n",
       "      <td>01139266</td>\n",
       "      <td>로스웰</td>\n",
       "      <td>900260</td>\n",
       "      <td>K</td>\n",
       "      <td>kosdaq</td>\n",
       "      <td>기타 금융업</td>\n",
       "      <td>CAN Control Gateway, CAN기능모듈, BCM 차체제어모듈</td>\n",
       "      <td>자동차부품</td>\n",
       "      <td>251010</td>\n",
       "      <td>2510</td>\n",
       "      <td>자동차와부품</td>\n",
       "      <td>25</td>\n",
       "      <td>경기관련소비재</td>\n",
       "    </tr>\n",
       "  </tbody>\n",
       "</table>\n",
       "</div>"
      ],
      "text/plain": [
       "  corp_code corp_name stock_code corp_cls corp_cls_nm                 sector  \\\n",
       "0  00956028    엑세스바이오     950130        K      kosdaq  의료용품 및 기타 의약 관련제품 제조업   \n",
       "1  00783246    글로벌에스엠     900070        K      kosdaq                 기타 금융업   \n",
       "2  01170962       GRT     900290        K      kosdaq                 기타 금융업   \n",
       "3  00600013    맵스리얼티1     094800        Y       kospi            신탁업 및 집합투자업   \n",
       "4  01139266       로스웰     900260        K      kosdaq                 기타 금융업   \n",
       "\n",
       "                                    product industry_wics_ss_nm  \\\n",
       "0             말라리아 진단키트(RDT), HIV 진단키트(RDT)          생명과학도구및서비스   \n",
       "1    자회사 제품 : IT기기용 정밀 화스너부품(스크류, 샤프트, 스프링)               자동차부품   \n",
       "2                                광학필름, 포장필름                  화학   \n",
       "3                                      None                 미분류   \n",
       "4  CAN Control Gateway, CAN기능모듈, BCM 차체제어모듈               자동차부품   \n",
       "\n",
       "   industry_wics_ss_cd  industry_wics_ms_cd industry_wics_ms_nm  \\\n",
       "0               352030                 3520             제약과생물공학   \n",
       "1               251010                 2510              자동차와부품   \n",
       "2               151010                 1510                  소재   \n",
       "3                    0                    0                None   \n",
       "4               251010                 2510              자동차와부품   \n",
       "\n",
       "   industry_wics_ls_cd industry_wics_ls_nm  \n",
       "0                   35                건강관리  \n",
       "1                   25             경기관련소비재  \n",
       "2                   15                  소재  \n",
       "3                    0                None  \n",
       "4                   25             경기관련소비재  "
      ]
     },
     "execution_count": 36,
     "metadata": {},
     "output_type": "execute_result"
    }
   ],
   "source": [
    "df['industry_wics_ls_cd'] = df['industry_wics_ms_cd'].map(lambda x: int(str(x)[:2]) if x > 0 else x)\n",
    "df['industry_wics_ls_nm'] = df['industry_wics_ls_cd'].map(get_wics_lc_dict)\n",
    "\n",
    "print(df.isnull().sum())\n",
    "df.head()"
   ]
  },
  {
   "cell_type": "markdown",
   "metadata": {},
   "source": [
    "# 메타 분석"
   ]
  },
  {
   "cell_type": "markdown",
   "metadata": {},
   "source": [
    "## 결측치"
   ]
  },
  {
   "cell_type": "code",
   "execution_count": 51,
   "metadata": {},
   "outputs": [
    {
     "data": {
      "text/plain": [
       "corp_code               0\n",
       "corp_name               0\n",
       "stock_code              0\n",
       "corp_cls                0\n",
       "corp_cls_nm             0\n",
       "sector                  0\n",
       "product                14\n",
       "industry_wics_ss_nm     0\n",
       "industry_wics_ss_cd     0\n",
       "industry_wics_ms_cd     0\n",
       "industry_wics_ms_nm     3\n",
       "industry_wics_ls_cd     0\n",
       "industry_wics_ls_nm     3\n",
       "dtype: int64"
      ]
     },
     "execution_count": 51,
     "metadata": {},
     "output_type": "execute_result"
    }
   ],
   "source": [
    "df.isnull().sum()"
   ]
  },
  {
   "cell_type": "code",
   "execution_count": 52,
   "metadata": {},
   "outputs": [
    {
     "data": {
      "text/html": [
       "<div>\n",
       "<style scoped>\n",
       "    .dataframe tbody tr th:only-of-type {\n",
       "        vertical-align: middle;\n",
       "    }\n",
       "\n",
       "    .dataframe tbody tr th {\n",
       "        vertical-align: top;\n",
       "    }\n",
       "\n",
       "    .dataframe thead th {\n",
       "        text-align: right;\n",
       "    }\n",
       "</style>\n",
       "<table border=\"1\" class=\"dataframe\">\n",
       "  <thead>\n",
       "    <tr style=\"text-align: right;\">\n",
       "      <th></th>\n",
       "      <th>corp_code</th>\n",
       "      <th>corp_name</th>\n",
       "      <th>stock_code</th>\n",
       "      <th>corp_cls</th>\n",
       "      <th>corp_cls_nm</th>\n",
       "      <th>sector</th>\n",
       "      <th>product</th>\n",
       "      <th>industry_wics_ss_nm</th>\n",
       "      <th>industry_wics_ss_cd</th>\n",
       "      <th>industry_wics_ms_cd</th>\n",
       "      <th>industry_wics_ms_nm</th>\n",
       "      <th>industry_wics_ls_cd</th>\n",
       "      <th>industry_wics_ls_nm</th>\n",
       "    </tr>\n",
       "  </thead>\n",
       "  <tbody>\n",
       "    <tr>\n",
       "      <th>3</th>\n",
       "      <td>00600013</td>\n",
       "      <td>맵스리얼티1</td>\n",
       "      <td>094800</td>\n",
       "      <td>Y</td>\n",
       "      <td>kospi</td>\n",
       "      <td>신탁업 및 집합투자업</td>\n",
       "      <td>None</td>\n",
       "      <td>미분류</td>\n",
       "      <td>0</td>\n",
       "      <td>0</td>\n",
       "      <td>None</td>\n",
       "      <td>0</td>\n",
       "      <td>None</td>\n",
       "    </tr>\n",
       "    <tr>\n",
       "      <th>2033</th>\n",
       "      <td>00907013</td>\n",
       "      <td>한국ANKOR유전</td>\n",
       "      <td>152550</td>\n",
       "      <td>Y</td>\n",
       "      <td>kospi</td>\n",
       "      <td>신탁업 및 집합투자업</td>\n",
       "      <td>None</td>\n",
       "      <td>미분류</td>\n",
       "      <td>0</td>\n",
       "      <td>0</td>\n",
       "      <td>None</td>\n",
       "      <td>0</td>\n",
       "      <td>None</td>\n",
       "    </tr>\n",
       "    <tr>\n",
       "      <th>2034</th>\n",
       "      <td>00960641</td>\n",
       "      <td>한국패러랠</td>\n",
       "      <td>168490</td>\n",
       "      <td>Y</td>\n",
       "      <td>kospi</td>\n",
       "      <td>신탁업 및 집합투자업</td>\n",
       "      <td>None</td>\n",
       "      <td>미분류</td>\n",
       "      <td>0</td>\n",
       "      <td>0</td>\n",
       "      <td>None</td>\n",
       "      <td>0</td>\n",
       "      <td>None</td>\n",
       "    </tr>\n",
       "  </tbody>\n",
       "</table>\n",
       "</div>"
      ],
      "text/plain": [
       "     corp_code  corp_name stock_code corp_cls corp_cls_nm       sector  \\\n",
       "3     00600013     맵스리얼티1     094800        Y       kospi  신탁업 및 집합투자업   \n",
       "2033  00907013  한국ANKOR유전     152550        Y       kospi  신탁업 및 집합투자업   \n",
       "2034  00960641      한국패러랠     168490        Y       kospi  신탁업 및 집합투자업   \n",
       "\n",
       "     product industry_wics_ss_nm  industry_wics_ss_cd  industry_wics_ms_cd  \\\n",
       "3       None                 미분류                    0                    0   \n",
       "2033    None                 미분류                    0                    0   \n",
       "2034    None                 미분류                    0                    0   \n",
       "\n",
       "     industry_wics_ms_nm  industry_wics_ls_cd industry_wics_ls_nm  \n",
       "3                   None                    0                None  \n",
       "2033                None                    0                None  \n",
       "2034                None                    0                None  "
      ]
     },
     "execution_count": 52,
     "metadata": {},
     "output_type": "execute_result"
    }
   ],
   "source": [
    "c= df['industry_wics_ms_nm'].isnull()\n",
    "\n",
    "df.loc[c]"
   ]
  },
  {
   "cell_type": "markdown",
   "metadata": {},
   "source": [
    "## 회사 수"
   ]
  },
  {
   "cell_type": "code",
   "execution_count": 38,
   "metadata": {},
   "outputs": [
    {
     "data": {
      "text/plain": [
       "2494"
      ]
     },
     "execution_count": 38,
     "metadata": {},
     "output_type": "execute_result"
    }
   ],
   "source": [
    "df['stock_code'].nunique() # 전체 회사 수"
   ]
  },
  {
   "cell_type": "markdown",
   "metadata": {},
   "source": [
    "- 코스탁 / 코스피"
   ]
  },
  {
   "cell_type": "code",
   "execution_count": 39,
   "metadata": {},
   "outputs": [
    {
     "data": {
      "text/plain": [
       "corp_cls_nm\n",
       "kosdaq    1658\n",
       "kospi      836\n",
       "Name: stock_code, dtype: int64"
      ]
     },
     "execution_count": 39,
     "metadata": {},
     "output_type": "execute_result"
    }
   ],
   "source": [
    "df.groupby(['corp_cls_nm'])['stock_code'].agg('nunique')"
   ]
  },
  {
   "cell_type": "markdown",
   "metadata": {},
   "source": [
    "- sector"
   ]
  },
  {
   "cell_type": "code",
   "execution_count": 44,
   "metadata": {},
   "outputs": [
    {
     "data": {
      "text/plain": [
       "sector\n",
       "소프트웨어 개발 및 공급업     161\n",
       "특수 목적용 기계 제조업      154\n",
       "전자부품 제조업           122\n",
       "의약품 제조업             98\n",
       "금융 지원 서비스업          98\n",
       "                  ... \n",
       "시장조사 및 여론조사업         1\n",
       "신발 및 신발 부분품 제조업      1\n",
       "재 보험업                1\n",
       "기타 생활용품 소매업          1\n",
       "기타 전문 서비스업           1\n",
       "Name: stock_code, Length: 158, dtype: int64"
      ]
     },
     "execution_count": 44,
     "metadata": {},
     "output_type": "execute_result"
    }
   ],
   "source": [
    "df.groupby(['sector'])['stock_code'].agg('nunique').sort_values(ascending=False)"
   ]
  },
  {
   "cell_type": "markdown",
   "metadata": {},
   "source": [
    "- industry_wics_ss_nm"
   ]
  },
  {
   "cell_type": "code",
   "execution_count": 46,
   "metadata": {},
   "outputs": [
    {
     "data": {
      "text/plain": [
       "industry_wics_ss_nm\n",
       "제약            156\n",
       "반도체와반도체장비     145\n",
       "자동차부품         141\n",
       "화학            109\n",
       "창업투자           97\n",
       "             ... \n",
       "복합유틸리티          1\n",
       "담배              1\n",
       "다각화된소비자서비스      1\n",
       "카드              1\n",
       "사무용전자제품         1\n",
       "Name: stock_code, Length: 79, dtype: int64"
      ]
     },
     "execution_count": 46,
     "metadata": {},
     "output_type": "execute_result"
    }
   ],
   "source": [
    "df.groupby(['industry_wics_ss_nm'])['stock_code'].agg('nunique').sort_values(ascending=False)"
   ]
  },
  {
   "cell_type": "markdown",
   "metadata": {},
   "source": [
    "- industry_wics_ms_nm"
   ]
  },
  {
   "cell_type": "code",
   "execution_count": 47,
   "metadata": {},
   "outputs": [
    {
     "data": {
      "text/plain": [
       "industry_wics_ms_nm\n",
       "자본재             308\n",
       "소재              249\n",
       "제약과생물공학         239\n",
       "기술하드웨어와장비       230\n",
       "내구소비재와의류        164\n",
       "소프트웨어와서비스       153\n",
       "자동차와부품          146\n",
       "반도체와반도체장비       145\n",
       "미디어와엔터테인먼트      123\n",
       "다각화된금융          105\n",
       "식품,음료,담배         90\n",
       "건강관리장비와서비스       89\n",
       "디스플레이            85\n",
       "전자와 전기제품         65\n",
       "운송               44\n",
       "소매(유통)           42\n",
       "에너지              37\n",
       "부동산              27\n",
       "상업서비스와공급품        26\n",
       "증권               25\n",
       "호텔,레스토랑,레저 등     18\n",
       "교육서비스            18\n",
       "유틸리티             17\n",
       "보험               13\n",
       "은행               11\n",
       "식품과기본식료품소매        8\n",
       "가정용품과개인용품         8\n",
       "전기통신서비스           6\n",
       "Name: stock_code, dtype: int64"
      ]
     },
     "execution_count": 47,
     "metadata": {},
     "output_type": "execute_result"
    }
   ],
   "source": [
    "df.groupby(['industry_wics_ms_nm'])['stock_code'].agg('nunique').sort_values(ascending=False)"
   ]
  },
  {
   "cell_type": "markdown",
   "metadata": {},
   "source": [
    "- industry_wics_ls_nm"
   ]
  },
  {
   "cell_type": "code",
   "execution_count": 49,
   "metadata": {},
   "outputs": [
    {
     "data": {
      "text/plain": [
       "industry_wics_ls_nm\n",
       "IT           678\n",
       "경기관련소비재      388\n",
       "산업재          378\n",
       "건강관리         328\n",
       "소재           249\n",
       "금융           181\n",
       "커뮤니케이션서비스    129\n",
       "필수소비재        106\n",
       "에너지           37\n",
       "유틸리티          17\n",
       "Name: stock_code, dtype: int64"
      ]
     },
     "execution_count": 49,
     "metadata": {},
     "output_type": "execute_result"
    }
   ],
   "source": [
    "df.groupby(['industry_wics_ls_nm'])['stock_code'].agg('nunique').sort_values(ascending=False)"
   ]
  },
  {
   "cell_type": "code",
   "execution_count": 45,
   "metadata": {},
   "outputs": [
    {
     "data": {
      "text/html": [
       "<div>\n",
       "<style scoped>\n",
       "    .dataframe tbody tr th:only-of-type {\n",
       "        vertical-align: middle;\n",
       "    }\n",
       "\n",
       "    .dataframe tbody tr th {\n",
       "        vertical-align: top;\n",
       "    }\n",
       "\n",
       "    .dataframe thead th {\n",
       "        text-align: right;\n",
       "    }\n",
       "</style>\n",
       "<table border=\"1\" class=\"dataframe\">\n",
       "  <thead>\n",
       "    <tr style=\"text-align: right;\">\n",
       "      <th></th>\n",
       "      <th>corp_code</th>\n",
       "      <th>corp_name</th>\n",
       "      <th>stock_code</th>\n",
       "      <th>corp_cls</th>\n",
       "      <th>corp_cls_nm</th>\n",
       "      <th>sector</th>\n",
       "      <th>product</th>\n",
       "      <th>industry_wics_ss_nm</th>\n",
       "      <th>industry_wics_ss_cd</th>\n",
       "      <th>industry_wics_ms_cd</th>\n",
       "      <th>industry_wics_ms_nm</th>\n",
       "      <th>industry_wics_ls_cd</th>\n",
       "      <th>industry_wics_ls_nm</th>\n",
       "    </tr>\n",
       "  </thead>\n",
       "  <tbody>\n",
       "    <tr>\n",
       "      <th>0</th>\n",
       "      <td>00956028</td>\n",
       "      <td>엑세스바이오</td>\n",
       "      <td>950130</td>\n",
       "      <td>K</td>\n",
       "      <td>kosdaq</td>\n",
       "      <td>의료용품 및 기타 의약 관련제품 제조업</td>\n",
       "      <td>말라리아 진단키트(RDT), HIV 진단키트(RDT)</td>\n",
       "      <td>생명과학도구및서비스</td>\n",
       "      <td>352030</td>\n",
       "      <td>3520</td>\n",
       "      <td>제약과생물공학</td>\n",
       "      <td>35</td>\n",
       "      <td>건강관리</td>\n",
       "    </tr>\n",
       "    <tr>\n",
       "      <th>1</th>\n",
       "      <td>00783246</td>\n",
       "      <td>글로벌에스엠</td>\n",
       "      <td>900070</td>\n",
       "      <td>K</td>\n",
       "      <td>kosdaq</td>\n",
       "      <td>기타 금융업</td>\n",
       "      <td>자회사 제품 : IT기기용 정밀 화스너부품(스크류, 샤프트, 스프링)</td>\n",
       "      <td>자동차부품</td>\n",
       "      <td>251010</td>\n",
       "      <td>2510</td>\n",
       "      <td>자동차와부품</td>\n",
       "      <td>25</td>\n",
       "      <td>경기관련소비재</td>\n",
       "    </tr>\n",
       "    <tr>\n",
       "      <th>2</th>\n",
       "      <td>01170962</td>\n",
       "      <td>GRT</td>\n",
       "      <td>900290</td>\n",
       "      <td>K</td>\n",
       "      <td>kosdaq</td>\n",
       "      <td>기타 금융업</td>\n",
       "      <td>광학필름, 포장필름</td>\n",
       "      <td>화학</td>\n",
       "      <td>151010</td>\n",
       "      <td>1510</td>\n",
       "      <td>소재</td>\n",
       "      <td>15</td>\n",
       "      <td>소재</td>\n",
       "    </tr>\n",
       "    <tr>\n",
       "      <th>3</th>\n",
       "      <td>00600013</td>\n",
       "      <td>맵스리얼티1</td>\n",
       "      <td>094800</td>\n",
       "      <td>Y</td>\n",
       "      <td>kospi</td>\n",
       "      <td>신탁업 및 집합투자업</td>\n",
       "      <td>None</td>\n",
       "      <td>미분류</td>\n",
       "      <td>0</td>\n",
       "      <td>0</td>\n",
       "      <td>None</td>\n",
       "      <td>0</td>\n",
       "      <td>None</td>\n",
       "    </tr>\n",
       "    <tr>\n",
       "      <th>4</th>\n",
       "      <td>01139266</td>\n",
       "      <td>로스웰</td>\n",
       "      <td>900260</td>\n",
       "      <td>K</td>\n",
       "      <td>kosdaq</td>\n",
       "      <td>기타 금융업</td>\n",
       "      <td>CAN Control Gateway, CAN기능모듈, BCM 차체제어모듈</td>\n",
       "      <td>자동차부품</td>\n",
       "      <td>251010</td>\n",
       "      <td>2510</td>\n",
       "      <td>자동차와부품</td>\n",
       "      <td>25</td>\n",
       "      <td>경기관련소비재</td>\n",
       "    </tr>\n",
       "  </tbody>\n",
       "</table>\n",
       "</div>"
      ],
      "text/plain": [
       "  corp_code corp_name stock_code corp_cls corp_cls_nm                 sector  \\\n",
       "0  00956028    엑세스바이오     950130        K      kosdaq  의료용품 및 기타 의약 관련제품 제조업   \n",
       "1  00783246    글로벌에스엠     900070        K      kosdaq                 기타 금융업   \n",
       "2  01170962       GRT     900290        K      kosdaq                 기타 금융업   \n",
       "3  00600013    맵스리얼티1     094800        Y       kospi            신탁업 및 집합투자업   \n",
       "4  01139266       로스웰     900260        K      kosdaq                 기타 금융업   \n",
       "\n",
       "                                    product industry_wics_ss_nm  \\\n",
       "0             말라리아 진단키트(RDT), HIV 진단키트(RDT)          생명과학도구및서비스   \n",
       "1    자회사 제품 : IT기기용 정밀 화스너부품(스크류, 샤프트, 스프링)               자동차부품   \n",
       "2                                광학필름, 포장필름                  화학   \n",
       "3                                      None                 미분류   \n",
       "4  CAN Control Gateway, CAN기능모듈, BCM 차체제어모듈               자동차부품   \n",
       "\n",
       "   industry_wics_ss_cd  industry_wics_ms_cd industry_wics_ms_nm  \\\n",
       "0               352030                 3520             제약과생물공학   \n",
       "1               251010                 2510              자동차와부품   \n",
       "2               151010                 1510                  소재   \n",
       "3                    0                    0                None   \n",
       "4               251010                 2510              자동차와부품   \n",
       "\n",
       "   industry_wics_ls_cd industry_wics_ls_nm  \n",
       "0                   35                건강관리  \n",
       "1                   25             경기관련소비재  \n",
       "2                   15                  소재  \n",
       "3                    0                None  \n",
       "4                   25             경기관련소비재  "
      ]
     },
     "execution_count": 45,
     "metadata": {},
     "output_type": "execute_result"
    }
   ],
   "source": [
    "df.head()"
   ]
  },
  {
   "cell_type": "markdown",
   "metadata": {},
   "source": [
    "# 저장 "
   ]
  },
  {
   "cell_type": "code",
   "execution_count": 50,
   "metadata": {},
   "outputs": [],
   "source": [
    "save_path_wics = '../data/meta/stock_corps.csv'\n",
    "\n",
    "df.to_csv(save_path_wics, header=True, index=False, encoding='utf-8')"
   ]
  },
  {
   "cell_type": "code",
   "execution_count": null,
   "metadata": {},
   "outputs": [],
   "source": []
  }
 ],
 "metadata": {
  "kernelspec": {
   "display_name": "stock-venv",
   "language": "python",
   "name": "python3"
  },
  "language_info": {
   "codemirror_mode": {
    "name": "ipython",
    "version": 3
   },
   "file_extension": ".py",
   "mimetype": "text/x-python",
   "name": "python",
   "nbconvert_exporter": "python",
   "pygments_lexer": "ipython3",
   "version": "3.11.3"
  },
  "orig_nbformat": 4
 },
 "nbformat": 4,
 "nbformat_minor": 2
}
